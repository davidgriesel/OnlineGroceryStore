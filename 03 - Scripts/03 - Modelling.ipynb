{
 "cells": [
  {
   "cell_type": "markdown",
   "id": "238de3a9-1ba5-4863-b83e-fefef3a474c2",
   "metadata": {},
   "source": [
    "# 1. Imports"
   ]
  },
  {
   "cell_type": "code",
   "execution_count": 3,
   "id": "abfb3baf-1f05-463b-bdc7-76db10244940",
   "metadata": {},
   "outputs": [],
   "source": [
    "#Libraries\n",
    "import pandas as pd\n",
    "import numpy as np\n",
    "import os"
   ]
  },
  {
   "cell_type": "code",
   "execution_count": 5,
   "id": "ba8ecf43-79d2-4a89-a92b-43f07b072edd",
   "metadata": {},
   "outputs": [],
   "source": [
    "#Path\n",
    "path = r'/Users/davidgriesel/Documents/0 - Analytics Projects/Online Grocery Store'"
   ]
  },
  {
   "cell_type": "code",
   "execution_count": 6,
   "id": "1a1e3662-b162-4671-9629-5085fd328b95",
   "metadata": {},
   "outputs": [],
   "source": [
    "#Dataset\n",
    "df_merged_dataset = pd.read_pickle(os.path.join(path, '02 - Data', 'Prepared Data', 'merged_dataset.pkl'))"
   ]
  },
  {
   "cell_type": "markdown",
   "id": "09f5e18c-1e49-43d6-812f-70adf606bd53",
   "metadata": {},
   "source": [
    "# 2. Checks"
   ]
  },
  {
   "cell_type": "code",
   "execution_count": 8,
   "id": "2b309c09-a19b-4917-bd81-910e6081a638",
   "metadata": {},
   "outputs": [
    {
     "data": {
      "text/plain": [
       "(32403719, 22)"
      ]
     },
     "execution_count": 8,
     "metadata": {},
     "output_type": "execute_result"
    }
   ],
   "source": [
    "#Dimensions\n",
    "df_merged_dataset.shape"
   ]
  },
  {
   "cell_type": "code",
   "execution_count": 9,
   "id": "a16c16a0-c3ce-436a-ba10-7ace6bab67d0",
   "metadata": {
    "scrolled": true
   },
   "outputs": [
    {
     "data": {
      "text/html": [
       "<div>\n",
       "<style scoped>\n",
       "    .dataframe tbody tr th:only-of-type {\n",
       "        vertical-align: middle;\n",
       "    }\n",
       "\n",
       "    .dataframe tbody tr th {\n",
       "        vertical-align: top;\n",
       "    }\n",
       "\n",
       "    .dataframe thead th {\n",
       "        text-align: right;\n",
       "    }\n",
       "</style>\n",
       "<table border=\"1\" class=\"dataframe\">\n",
       "  <thead>\n",
       "    <tr style=\"text-align: right;\">\n",
       "      <th></th>\n",
       "      <th>order_id</th>\n",
       "      <th>user_id</th>\n",
       "      <th>user_order_count</th>\n",
       "      <th>order_day_of_week</th>\n",
       "      <th>order_hour_of_day</th>\n",
       "      <th>days_since_last_order</th>\n",
       "      <th>is_first_order</th>\n",
       "      <th>product_id</th>\n",
       "      <th>add_to_cart_order</th>\n",
       "      <th>reordered</th>\n",
       "      <th>...</th>\n",
       "      <th>department_id</th>\n",
       "      <th>prices</th>\n",
       "      <th>gender</th>\n",
       "      <th>state</th>\n",
       "      <th>age</th>\n",
       "      <th>date_joined</th>\n",
       "      <th>number_of_dependants</th>\n",
       "      <th>marital_status</th>\n",
       "      <th>income</th>\n",
       "      <th>department</th>\n",
       "    </tr>\n",
       "  </thead>\n",
       "  <tbody>\n",
       "    <tr>\n",
       "      <th>0</th>\n",
       "      <td>2539329</td>\n",
       "      <td>1</td>\n",
       "      <td>1</td>\n",
       "      <td>2</td>\n",
       "      <td>8</td>\n",
       "      <td>NaN</td>\n",
       "      <td>True</td>\n",
       "      <td>196</td>\n",
       "      <td>1</td>\n",
       "      <td>0</td>\n",
       "      <td>...</td>\n",
       "      <td>7</td>\n",
       "      <td>9.0</td>\n",
       "      <td>Female</td>\n",
       "      <td>Alabama</td>\n",
       "      <td>31</td>\n",
       "      <td>2019-02-17</td>\n",
       "      <td>3</td>\n",
       "      <td>married</td>\n",
       "      <td>40423</td>\n",
       "      <td>beverages</td>\n",
       "    </tr>\n",
       "    <tr>\n",
       "      <th>1</th>\n",
       "      <td>2539329</td>\n",
       "      <td>1</td>\n",
       "      <td>1</td>\n",
       "      <td>2</td>\n",
       "      <td>8</td>\n",
       "      <td>NaN</td>\n",
       "      <td>True</td>\n",
       "      <td>14084</td>\n",
       "      <td>2</td>\n",
       "      <td>0</td>\n",
       "      <td>...</td>\n",
       "      <td>16</td>\n",
       "      <td>12.5</td>\n",
       "      <td>Female</td>\n",
       "      <td>Alabama</td>\n",
       "      <td>31</td>\n",
       "      <td>2019-02-17</td>\n",
       "      <td>3</td>\n",
       "      <td>married</td>\n",
       "      <td>40423</td>\n",
       "      <td>dairy eggs</td>\n",
       "    </tr>\n",
       "    <tr>\n",
       "      <th>2</th>\n",
       "      <td>2539329</td>\n",
       "      <td>1</td>\n",
       "      <td>1</td>\n",
       "      <td>2</td>\n",
       "      <td>8</td>\n",
       "      <td>NaN</td>\n",
       "      <td>True</td>\n",
       "      <td>12427</td>\n",
       "      <td>3</td>\n",
       "      <td>0</td>\n",
       "      <td>...</td>\n",
       "      <td>19</td>\n",
       "      <td>4.4</td>\n",
       "      <td>Female</td>\n",
       "      <td>Alabama</td>\n",
       "      <td>31</td>\n",
       "      <td>2019-02-17</td>\n",
       "      <td>3</td>\n",
       "      <td>married</td>\n",
       "      <td>40423</td>\n",
       "      <td>snacks</td>\n",
       "    </tr>\n",
       "    <tr>\n",
       "      <th>3</th>\n",
       "      <td>2539329</td>\n",
       "      <td>1</td>\n",
       "      <td>1</td>\n",
       "      <td>2</td>\n",
       "      <td>8</td>\n",
       "      <td>NaN</td>\n",
       "      <td>True</td>\n",
       "      <td>26088</td>\n",
       "      <td>4</td>\n",
       "      <td>0</td>\n",
       "      <td>...</td>\n",
       "      <td>19</td>\n",
       "      <td>4.7</td>\n",
       "      <td>Female</td>\n",
       "      <td>Alabama</td>\n",
       "      <td>31</td>\n",
       "      <td>2019-02-17</td>\n",
       "      <td>3</td>\n",
       "      <td>married</td>\n",
       "      <td>40423</td>\n",
       "      <td>snacks</td>\n",
       "    </tr>\n",
       "    <tr>\n",
       "      <th>4</th>\n",
       "      <td>2539329</td>\n",
       "      <td>1</td>\n",
       "      <td>1</td>\n",
       "      <td>2</td>\n",
       "      <td>8</td>\n",
       "      <td>NaN</td>\n",
       "      <td>True</td>\n",
       "      <td>26405</td>\n",
       "      <td>5</td>\n",
       "      <td>0</td>\n",
       "      <td>...</td>\n",
       "      <td>17</td>\n",
       "      <td>1.0</td>\n",
       "      <td>Female</td>\n",
       "      <td>Alabama</td>\n",
       "      <td>31</td>\n",
       "      <td>2019-02-17</td>\n",
       "      <td>3</td>\n",
       "      <td>married</td>\n",
       "      <td>40423</td>\n",
       "      <td>household</td>\n",
       "    </tr>\n",
       "  </tbody>\n",
       "</table>\n",
       "<p>5 rows × 22 columns</p>\n",
       "</div>"
      ],
      "text/plain": [
       "   order_id  user_id  user_order_count  order_day_of_week  order_hour_of_day  \\\n",
       "0   2539329        1                 1                  2                  8   \n",
       "1   2539329        1                 1                  2                  8   \n",
       "2   2539329        1                 1                  2                  8   \n",
       "3   2539329        1                 1                  2                  8   \n",
       "4   2539329        1                 1                  2                  8   \n",
       "\n",
       "   days_since_last_order  is_first_order  product_id  add_to_cart_order  \\\n",
       "0                    NaN            True         196                  1   \n",
       "1                    NaN            True       14084                  2   \n",
       "2                    NaN            True       12427                  3   \n",
       "3                    NaN            True       26088                  4   \n",
       "4                    NaN            True       26405                  5   \n",
       "\n",
       "   reordered  ... department_id  prices  gender    state age date_joined  \\\n",
       "0          0  ...             7     9.0  Female  Alabama  31  2019-02-17   \n",
       "1          0  ...            16    12.5  Female  Alabama  31  2019-02-17   \n",
       "2          0  ...            19     4.4  Female  Alabama  31  2019-02-17   \n",
       "3          0  ...            19     4.7  Female  Alabama  31  2019-02-17   \n",
       "4          0  ...            17     1.0  Female  Alabama  31  2019-02-17   \n",
       "\n",
       "   number_of_dependants marital_status  income  department  \n",
       "0                     3        married   40423   beverages  \n",
       "1                     3        married   40423  dairy eggs  \n",
       "2                     3        married   40423      snacks  \n",
       "3                     3        married   40423      snacks  \n",
       "4                     3        married   40423   household  \n",
       "\n",
       "[5 rows x 22 columns]"
      ]
     },
     "execution_count": 9,
     "metadata": {},
     "output_type": "execute_result"
    }
   ],
   "source": [
    "#Preview\n",
    "df_merged_dataset.head()"
   ]
  },
  {
   "cell_type": "markdown",
   "id": "04fbda70-efad-41f3-a270-06bca82b3aa9",
   "metadata": {},
   "source": [
    "##### Observations:\n",
    "- Consistent with integrated dataset"
   ]
  },
  {
   "cell_type": "markdown",
   "id": "7bc5165b-0c96-41cf-b6dd-1abd1e0d7bbc",
   "metadata": {},
   "source": [
    "# 3. Derive New Variables"
   ]
  },
  {
   "cell_type": "markdown",
   "id": "101790af-b67c-493a-b4fe-211a5c5eb8b8",
   "metadata": {},
   "source": [
    "## 3.1. Busiest Days"
   ]
  },
  {
   "cell_type": "code",
   "execution_count": 13,
   "id": "b4974ef1-fb97-4f41-99d3-4f4a68db3a38",
   "metadata": {},
   "outputs": [
    {
     "data": {
      "text/plain": [
       "order_day_of_week\n",
       "0    6203898\n",
       "1    5660040\n",
       "6    4496316\n",
       "2    4213690\n",
       "5    4205651\n",
       "3    3840418\n",
       "4    3783706\n",
       "Name: count, dtype: int64"
      ]
     },
     "execution_count": 13,
     "metadata": {},
     "output_type": "execute_result"
    }
   ],
   "source": [
    "#Check frequency distribution of variable\n",
    "df_merged_dataset['order_day_of_week'].value_counts(dropna = False)"
   ]
  },
  {
   "cell_type": "code",
   "execution_count": 14,
   "id": "25ca855a-374c-477c-be87-4ee9f43b6cdb",
   "metadata": {},
   "outputs": [],
   "source": [
    "#Create loop and place results in list\n",
    "result_1 = []\n",
    "\n",
    "for value in df_merged_dataset['order_day_of_week']:\n",
    "    if value == 0 or value == 1:\n",
    "        result_1.append('Most Busy')\n",
    "    elif value == 3 or value == 4:\n",
    "        result_1.append('Moderately Busy')\n",
    "    else:\n",
    "        result_1.append('Least Busy')"
   ]
  },
  {
   "cell_type": "code",
   "execution_count": 15,
   "id": "ffd07465-69aa-4344-9b22-7afdd0b48c6c",
   "metadata": {},
   "outputs": [],
   "source": [
    "#Create new variable and set it equal to results of loop\n",
    "df_merged_dataset['busiest_days'] = result_1"
   ]
  },
  {
   "cell_type": "code",
   "execution_count": 16,
   "id": "516c4bc5-6e75-4c2f-b8da-94e2cae1bc15",
   "metadata": {},
   "outputs": [
    {
     "data": {
      "text/plain": [
       "(32403719, 23)"
      ]
     },
     "execution_count": 16,
     "metadata": {},
     "output_type": "execute_result"
    }
   ],
   "source": [
    "#Dimensions\n",
    "df_merged_dataset.shape"
   ]
  },
  {
   "cell_type": "code",
   "execution_count": 17,
   "id": "6f3c1ce6-bf76-4f62-ba3a-302090e33480",
   "metadata": {},
   "outputs": [
    {
     "data": {
      "text/html": [
       "<div>\n",
       "<style scoped>\n",
       "    .dataframe tbody tr th:only-of-type {\n",
       "        vertical-align: middle;\n",
       "    }\n",
       "\n",
       "    .dataframe tbody tr th {\n",
       "        vertical-align: top;\n",
       "    }\n",
       "\n",
       "    .dataframe thead th {\n",
       "        text-align: right;\n",
       "    }\n",
       "</style>\n",
       "<table border=\"1\" class=\"dataframe\">\n",
       "  <thead>\n",
       "    <tr style=\"text-align: right;\">\n",
       "      <th></th>\n",
       "      <th>busiest_days</th>\n",
       "      <th>count</th>\n",
       "    </tr>\n",
       "  </thead>\n",
       "  <tbody>\n",
       "    <tr>\n",
       "      <th>0</th>\n",
       "      <td>Least Busy</td>\n",
       "      <td>12915657</td>\n",
       "    </tr>\n",
       "    <tr>\n",
       "      <th>1</th>\n",
       "      <td>Most Busy</td>\n",
       "      <td>11863938</td>\n",
       "    </tr>\n",
       "    <tr>\n",
       "      <th>2</th>\n",
       "      <td>Moderately Busy</td>\n",
       "      <td>7624124</td>\n",
       "    </tr>\n",
       "    <tr>\n",
       "      <th>3</th>\n",
       "      <td>Total</td>\n",
       "      <td>32403719</td>\n",
       "    </tr>\n",
       "  </tbody>\n",
       "</table>\n",
       "</div>"
      ],
      "text/plain": [
       "      busiest_days     count\n",
       "0       Least Busy  12915657\n",
       "1        Most Busy  11863938\n",
       "2  Moderately Busy   7624124\n",
       "3            Total  32403719"
      ]
     },
     "execution_count": 17,
     "metadata": {},
     "output_type": "execute_result"
    }
   ],
   "source": [
    "# Group by label and count occurrences\n",
    "count = df_merged_dataset['busiest_days'].value_counts(dropna=False).reset_index()\n",
    "count.columns = ['busiest_days', 'count']\n",
    "\n",
    "# Add a row for the total sum of unique users\n",
    "total_row = pd.DataFrame({'busiest_days': ['Total'], 'count': [count['count'].sum()]})\n",
    "count = pd.concat([count, total_row], ignore_index=True)\n",
    "\n",
    "# Display the table\n",
    "count"
   ]
  },
  {
   "cell_type": "markdown",
   "id": "7cfec190-bf8b-45fc-ba49-1592dcae1946",
   "metadata": {},
   "source": [
    "## 3.2. Busiest Hours"
   ]
  },
  {
   "cell_type": "code",
   "execution_count": 19,
   "id": "964c74a8-6ad9-406d-ab67-d866e0939ded",
   "metadata": {
    "scrolled": true
   },
   "outputs": [
    {
     "data": {
      "text/plain": [
       "order_hour_of_day\n",
       "10    2761660\n",
       "11    2736010\n",
       "14    2689036\n",
       "15    2662044\n",
       "13    2660846\n",
       "12    2618430\n",
       "16    2535106\n",
       "9     2454127\n",
       "17    2087564\n",
       "8     1718082\n",
       "18    1636436\n",
       "19    1258275\n",
       "20     976134\n",
       "7      891026\n",
       "21     795619\n",
       "22     634207\n",
       "23     402314\n",
       "6      290491\n",
       "0      218763\n",
       "1      115698\n",
       "5       87957\n",
       "2       69373\n",
       "4       53240\n",
       "3       51281\n",
       "Name: count, dtype: int64"
      ]
     },
     "execution_count": 19,
     "metadata": {},
     "output_type": "execute_result"
    }
   ],
   "source": [
    "#Check frequency distribution of variable\n",
    "df_merged_dataset['order_hour_of_day'].value_counts()"
   ]
  },
  {
   "cell_type": "code",
   "execution_count": 24,
   "id": "77f471ed-fc9a-40e2-8456-cceabdd4b0e2",
   "metadata": {},
   "outputs": [],
   "source": [
    "#Create loop and place results in list\n",
    "result_2 = []\n",
    "\n",
    "for value in df_merged_dataset['order_hour_of_day']:\n",
    "    if value in [10, 11, 12, 13, 14, 15, 16]: # More than 2m orders\n",
    "        result_2.append('Most Busy')\n",
    "    elif value in [0, 1, 2, 3, 4, 5, 6]: #less than 500k orders\n",
    "        result_2.append('Least Busy')\n",
    "    else:\n",
    "        result_2.append('Moderately Busy')"
   ]
  },
  {
   "cell_type": "code",
   "execution_count": 25,
   "id": "288ec7c3-9462-49f2-83e3-9c8ac805f5ba",
   "metadata": {},
   "outputs": [],
   "source": [
    "#Create new variable and set it equal to results of loop\n",
    "df_merged_dataset['busiest_hours'] = result_2"
   ]
  },
  {
   "cell_type": "code",
   "execution_count": 26,
   "id": "b735ee6b-57da-483d-bdce-b892d48de5e0",
   "metadata": {},
   "outputs": [
    {
     "data": {
      "text/plain": [
       "(32403719, 24)"
      ]
     },
     "execution_count": 26,
     "metadata": {},
     "output_type": "execute_result"
    }
   ],
   "source": [
    "#Dimensions\n",
    "df_merged_dataset.shape"
   ]
  },
  {
   "cell_type": "code",
   "execution_count": 27,
   "id": "cf83c934-391b-40c0-941e-566b4664f568",
   "metadata": {},
   "outputs": [
    {
     "data": {
      "text/html": [
       "<div>\n",
       "<style scoped>\n",
       "    .dataframe tbody tr th:only-of-type {\n",
       "        vertical-align: middle;\n",
       "    }\n",
       "\n",
       "    .dataframe tbody tr th {\n",
       "        vertical-align: top;\n",
       "    }\n",
       "\n",
       "    .dataframe thead th {\n",
       "        text-align: right;\n",
       "    }\n",
       "</style>\n",
       "<table border=\"1\" class=\"dataframe\">\n",
       "  <thead>\n",
       "    <tr style=\"text-align: right;\">\n",
       "      <th></th>\n",
       "      <th>busiest_hours</th>\n",
       "      <th>count</th>\n",
       "    </tr>\n",
       "  </thead>\n",
       "  <tbody>\n",
       "    <tr>\n",
       "      <th>0</th>\n",
       "      <td>Most Busy</td>\n",
       "      <td>18663132</td>\n",
       "    </tr>\n",
       "    <tr>\n",
       "      <th>1</th>\n",
       "      <td>Moderately Busy</td>\n",
       "      <td>12853784</td>\n",
       "    </tr>\n",
       "    <tr>\n",
       "      <th>2</th>\n",
       "      <td>Least Busy</td>\n",
       "      <td>886803</td>\n",
       "    </tr>\n",
       "    <tr>\n",
       "      <th>3</th>\n",
       "      <td>Total</td>\n",
       "      <td>32403719</td>\n",
       "    </tr>\n",
       "  </tbody>\n",
       "</table>\n",
       "</div>"
      ],
      "text/plain": [
       "     busiest_hours     count\n",
       "0        Most Busy  18663132\n",
       "1  Moderately Busy  12853784\n",
       "2       Least Busy    886803\n",
       "3            Total  32403719"
      ]
     },
     "execution_count": 27,
     "metadata": {},
     "output_type": "execute_result"
    }
   ],
   "source": [
    "# Group by label and count occurrences\n",
    "count = df_merged_dataset['busiest_hours'].value_counts(dropna=False).reset_index()\n",
    "count.columns = ['busiest_hours', 'count']\n",
    "\n",
    "# Add a row for the total sum of unique users\n",
    "total_row = pd.DataFrame({'busiest_hours': ['Total'], 'count': [count['count'].sum()]})\n",
    "count = pd.concat([count, total_row], ignore_index=True)\n",
    "\n",
    "# Display the table\n",
    "count"
   ]
  },
  {
   "cell_type": "markdown",
   "id": "d509957b-5250-462d-a8ef-e6505167ddd7",
   "metadata": {},
   "source": [
    "## 3.3. Price Label"
   ]
  },
  {
   "cell_type": "code",
   "execution_count": 29,
   "id": "f7a43ea9-2f11-456a-9a9f-fa942ad095b4",
   "metadata": {},
   "outputs": [],
   "source": [
    "# Set Pandas to display all rows\n",
    "pd.set_option('display.max_rows', None)"
   ]
  },
  {
   "cell_type": "code",
   "execution_count": 30,
   "id": "58317ae4-5874-4c94-97e3-0dd27b2650b5",
   "metadata": {
    "scrolled": true
   },
   "outputs": [
    {
     "data": {
      "text/plain": [
       "prices\n",
       "1.00     115143\n",
       "1.10     242782\n",
       "1.20     256258\n",
       "1.30     425691\n",
       "1.40     392209\n",
       "1.50     154527\n",
       "1.60     299352\n",
       "1.70     213967\n",
       "1.80     321184\n",
       "1.90     156179\n",
       "2.00     286259\n",
       "2.10     206004\n",
       "2.20     160243\n",
       "2.30     242051\n",
       "2.40     196042\n",
       "2.50     246421\n",
       "2.60     211936\n",
       "2.70     199785\n",
       "2.80     153979\n",
       "2.90     264138\n",
       "3.00     192650\n",
       "3.10     249256\n",
       "3.20     253782\n",
       "3.30     238041\n",
       "3.40     223571\n",
       "3.50     222786\n",
       "3.60     300127\n",
       "3.70     222159\n",
       "3.80     315426\n",
       "3.90     212805\n",
       "4.00     447272\n",
       "4.10     268269\n",
       "4.20     245755\n",
       "4.30     162367\n",
       "4.40     357026\n",
       "4.50     367223\n",
       "4.60     144069\n",
       "4.70     221048\n",
       "4.80     193853\n",
       "4.90     318220\n",
       "5.00     225904\n",
       "5.10     224797\n",
       "5.20     251509\n",
       "5.30     284243\n",
       "5.40     206769\n",
       "5.50     250136\n",
       "5.60     183638\n",
       "5.70     323997\n",
       "5.80     241047\n",
       "5.90     208900\n",
       "6.00     196985\n",
       "6.10     244209\n",
       "6.20     178656\n",
       "6.30     438467\n",
       "6.40     206460\n",
       "6.50     278357\n",
       "6.60     204936\n",
       "6.70     379126\n",
       "6.80     354168\n",
       "6.90     314196\n",
       "7.00     282884\n",
       "7.10     140813\n",
       "7.20     223120\n",
       "7.30     411924\n",
       "7.40     233506\n",
       "7.50     239261\n",
       "7.60     113878\n",
       "7.70     190070\n",
       "7.80     186923\n",
       "7.90     342988\n",
       "8.00     151542\n",
       "8.10     176805\n",
       "8.20     404015\n",
       "8.30     276230\n",
       "8.40     227493\n",
       "8.50     139244\n",
       "8.60     254009\n",
       "8.70     166742\n",
       "8.80     318091\n",
       "8.90     219412\n",
       "9.00     228576\n",
       "9.10     320782\n",
       "9.20     182411\n",
       "9.30     168917\n",
       "9.40     197179\n",
       "9.50     165789\n",
       "9.60     216626\n",
       "9.70     120777\n",
       "9.80     194754\n",
       "9.90     169251\n",
       "9.99        698\n",
       "10.00    127842\n",
       "10.10    139263\n",
       "10.20    165789\n",
       "10.30    510496\n",
       "10.40    133058\n",
       "10.50    237657\n",
       "10.60    204242\n",
       "10.70    191705\n",
       "10.80     89927\n",
       "10.90    165607\n",
       "11.00    183505\n",
       "11.10    169709\n",
       "11.20    212323\n",
       "11.30    212926\n",
       "11.40    303015\n",
       "11.50    225399\n",
       "11.60    148742\n",
       "11.70    206199\n",
       "11.80    284476\n",
       "11.90    127349\n",
       "12.00    164717\n",
       "12.10    181986\n",
       "12.20    188444\n",
       "12.30    624261\n",
       "12.40     97866\n",
       "12.50    152781\n",
       "12.60    174427\n",
       "12.70    124544\n",
       "12.80    309727\n",
       "12.90    160860\n",
       "13.00    114503\n",
       "13.10    117047\n",
       "13.20    333183\n",
       "13.30    173797\n",
       "13.40    225843\n",
       "13.50    216276\n",
       "13.60    172962\n",
       "13.70    181882\n",
       "13.80    162616\n",
       "13.90    145234\n",
       "14.00    311632\n",
       "14.10    238211\n",
       "14.20    119314\n",
       "14.30    334811\n",
       "14.40    168272\n",
       "14.50    129540\n",
       "14.60    139880\n",
       "14.70    279291\n",
       "14.80    188844\n",
       "14.90    160862\n",
       "15.00     97261\n",
       "15.10      2422\n",
       "15.20       494\n",
       "15.30      7495\n",
       "15.40      1175\n",
       "15.50      2325\n",
       "15.60       333\n",
       "15.70      4551\n",
       "15.80       772\n",
       "15.90      5078\n",
       "16.00      1272\n",
       "16.10      1622\n",
       "16.20      1823\n",
       "16.30       287\n",
       "16.40      3892\n",
       "16.50      2541\n",
       "16.60      4212\n",
       "16.70      3105\n",
       "16.80      4795\n",
       "16.90      4971\n",
       "17.00      3836\n",
       "17.10      4231\n",
       "17.20      1001\n",
       "17.30      4309\n",
       "17.40      1721\n",
       "17.50       369\n",
       "17.60       640\n",
       "17.70      2073\n",
       "17.80       981\n",
       "17.90       137\n",
       "18.00      1135\n",
       "18.10      8027\n",
       "18.20     14923\n",
       "18.30        11\n",
       "18.40      1762\n",
       "18.50      3105\n",
       "18.60      8451\n",
       "18.70     10503\n",
       "18.80      4363\n",
       "18.90       483\n",
       "19.00      2823\n",
       "19.10      2926\n",
       "19.20       981\n",
       "19.30      6537\n",
       "19.40      5457\n",
       "19.50       453\n",
       "19.60     28383\n",
       "19.70      5538\n",
       "19.80       344\n",
       "19.90       887\n",
       "20.00      5775\n",
       "20.10      3745\n",
       "20.20       123\n",
       "20.30       236\n",
       "20.40      5351\n",
       "20.50       945\n",
       "20.60      1167\n",
       "20.70      6568\n",
       "20.80       852\n",
       "20.90      1075\n",
       "21.00         8\n",
       "21.10     33805\n",
       "21.30      7647\n",
       "21.40       137\n",
       "21.50        85\n",
       "21.60     10598\n",
       "21.70      2553\n",
       "21.80       546\n",
       "21.90       689\n",
       "22.00      1182\n",
       "22.10      5204\n",
       "22.20      1178\n",
       "22.30     19430\n",
       "22.40      1280\n",
       "22.50       706\n",
       "22.60      2275\n",
       "22.70        99\n",
       "22.80      1089\n",
       "22.90      3884\n",
       "23.00      3265\n",
       "23.10      9135\n",
       "23.20     14866\n",
       "23.30      4803\n",
       "23.40       368\n",
       "23.50      1924\n",
       "23.60      8458\n",
       "23.70      1346\n",
       "23.80     12585\n",
       "23.90      2074\n",
       "24.00      4327\n",
       "24.10       978\n",
       "24.20     15891\n",
       "24.30      2889\n",
       "24.40       499\n",
       "24.50      2148\n",
       "24.60      1962\n",
       "24.70      7283\n",
       "24.80       410\n",
       "24.90      5781\n",
       "25.00     13772\n",
       "Name: count, dtype: int64"
      ]
     },
     "execution_count": 30,
     "metadata": {},
     "output_type": "execute_result"
    }
   ],
   "source": [
    "#Check frequency distribution of variable\n",
    "df_merged_dataset['prices'].value_counts(dropna = False).sort_index()"
   ]
  },
  {
   "cell_type": "code",
   "execution_count": 31,
   "id": "e4a57b26-cdb8-41cc-9d15-7877c3d13814",
   "metadata": {},
   "outputs": [],
   "source": [
    "# Reset display all rows\n",
    "pd.reset_option('display.max_rows')"
   ]
  },
  {
   "cell_type": "code",
   "execution_count": 32,
   "id": "a1378628-ce86-4185-ad4c-2b7f4047de29",
   "metadata": {},
   "outputs": [],
   "source": [
    "#Define the conditions\n",
    "conditions = [\n",
    "    df_merged_dataset['prices'] <= 5,\n",
    "    (df_merged_dataset['prices'] > 5) & (df_merged_dataset['prices'] <= 10),\n",
    "    (df_merged_dataset['prices'] > 10) & (df_merged_dataset['prices'] <= 15),\n",
    "    df_merged_dataset['prices'] > 15\n",
    "]\n",
    "\n",
    "#Define corresponding labels\n",
    "choices = ['Low Price', 'Mid Price', 'High Price', 'Premium Price']\n",
    "\n",
    "#Create new variable based on the conditions\n",
    "df_merged_dataset['price_label'] = np.select(conditions, choices, default = 'Unknown')"
   ]
  },
  {
   "cell_type": "code",
   "execution_count": 38,
   "id": "eae7642d-7b92-4255-9300-8fcc34e798cc",
   "metadata": {},
   "outputs": [
    {
     "data": {
      "text/plain": [
       "(32403719, 25)"
      ]
     },
     "execution_count": 38,
     "metadata": {},
     "output_type": "execute_result"
    }
   ],
   "source": [
    "#Dimensions\n",
    "df_merged_dataset.shape"
   ]
  },
  {
   "cell_type": "code",
   "execution_count": 39,
   "id": "6a49b890-ac12-4fec-b608-fa16ce318e55",
   "metadata": {},
   "outputs": [
    {
     "data": {
      "text/html": [
       "<div>\n",
       "<style scoped>\n",
       "    .dataframe tbody tr th:only-of-type {\n",
       "        vertical-align: middle;\n",
       "    }\n",
       "\n",
       "    .dataframe tbody tr th {\n",
       "        vertical-align: top;\n",
       "    }\n",
       "\n",
       "    .dataframe thead th {\n",
       "        text-align: right;\n",
       "    }\n",
       "</style>\n",
       "<table border=\"1\" class=\"dataframe\">\n",
       "  <thead>\n",
       "    <tr style=\"text-align: right;\">\n",
       "      <th></th>\n",
       "      <th>price_label</th>\n",
       "      <th>count</th>\n",
       "    </tr>\n",
       "  </thead>\n",
       "  <tbody>\n",
       "    <tr>\n",
       "      <th>0</th>\n",
       "      <td>Mid Price</td>\n",
       "      <td>11763148</td>\n",
       "    </tr>\n",
       "    <tr>\n",
       "      <th>1</th>\n",
       "      <td>Low Price</td>\n",
       "      <td>10125759</td>\n",
       "    </tr>\n",
       "    <tr>\n",
       "      <th>2</th>\n",
       "      <td>High Price</td>\n",
       "      <td>10102261</td>\n",
       "    </tr>\n",
       "    <tr>\n",
       "      <th>3</th>\n",
       "      <td>Premium Price</td>\n",
       "      <td>412551</td>\n",
       "    </tr>\n",
       "    <tr>\n",
       "      <th>4</th>\n",
       "      <td>Total</td>\n",
       "      <td>32403719</td>\n",
       "    </tr>\n",
       "  </tbody>\n",
       "</table>\n",
       "</div>"
      ],
      "text/plain": [
       "     price_label     count\n",
       "0      Mid Price  11763148\n",
       "1      Low Price  10125759\n",
       "2     High Price  10102261\n",
       "3  Premium Price    412551\n",
       "4          Total  32403719"
      ]
     },
     "execution_count": 39,
     "metadata": {},
     "output_type": "execute_result"
    }
   ],
   "source": [
    "# Group by label and count occurrences\n",
    "count = df_merged_dataset['price_label'].value_counts(dropna=False).reset_index()\n",
    "count.columns = ['price_label', 'count']\n",
    "\n",
    "# Add a row for the total sum of unique users\n",
    "total_row = pd.DataFrame({'price_label': ['Total'], 'count': [count['count'].sum()]})\n",
    "count = pd.concat([count, total_row], ignore_index=True)\n",
    "\n",
    "# Display the table\n",
    "count"
   ]
  },
  {
   "cell_type": "markdown",
   "id": "de3e5d1d-6ff4-4bb3-b638-bafa337f7c12",
   "metadata": {},
   "source": [
    "# >>> Export / Import"
   ]
  },
  {
   "cell_type": "code",
   "execution_count": 48,
   "id": "35673971-62ce-4114-9fe8-58df0af4513c",
   "metadata": {},
   "outputs": [],
   "source": [
    "#Export merged dataset\n",
    "df_merged_dataset.to_pickle(os.path.join(path, '02 - Data', 'Prepared Data', 'final_dataset_1.pkl'))"
   ]
  },
  {
   "cell_type": "code",
   "execution_count": 7,
   "id": "cfb8971c-e85b-4511-a4a3-574d816dccce",
   "metadata": {},
   "outputs": [],
   "source": [
    "#Import merged dataset\n",
    "df_merged_dataset = pd.read_pickle(os.path.join(path, '02 - Data', 'Prepared Data', 'final_dataset_1.pkl'))"
   ]
  },
  {
   "cell_type": "markdown",
   "id": "17a390bd-aa08-4089-bf2b-3a89544950a1",
   "metadata": {},
   "source": [
    "## 3.4. Mean Price"
   ]
  },
  {
   "cell_type": "code",
   "execution_count": 9,
   "id": "877747dc-c200-404c-a7bf-ddfa2b328d29",
   "metadata": {},
   "outputs": [],
   "source": [
    "#Average spent(price) by user_id per product\n",
    "df_merged_dataset['avg_price'] = df_merged_dataset.groupby(['user_id'])['prices'].transform('mean')"
   ]
  },
  {
   "cell_type": "code",
   "execution_count": 10,
   "id": "64c40ce6-4a1e-4d52-815f-f49e1d9bad0d",
   "metadata": {},
   "outputs": [
    {
     "data": {
      "text/plain": [
       "(32403719, 26)"
      ]
     },
     "execution_count": 10,
     "metadata": {},
     "output_type": "execute_result"
    }
   ],
   "source": [
    "#Dimensions\n",
    "df_merged_dataset.shape"
   ]
  },
  {
   "cell_type": "markdown",
   "id": "2769bc49-3297-458f-b29f-87689474467a",
   "metadata": {},
   "source": [
    "## 3.5. Spending Flag"
   ]
  },
  {
   "cell_type": "code",
   "execution_count": 12,
   "id": "64282687-9aad-442a-8897-52e33b4f5917",
   "metadata": {},
   "outputs": [
    {
     "data": {
      "text/plain": [
       "count    3.240372e+07\n",
       "mean     7.792048e+00\n",
       "std      7.348679e-01\n",
       "min      1.000000e+00\n",
       "25%      7.379634e+00\n",
       "50%      7.813158e+00\n",
       "75%      8.230503e+00\n",
       "max      2.320000e+01\n",
       "Name: avg_price, dtype: float64"
      ]
     },
     "execution_count": 12,
     "metadata": {},
     "output_type": "execute_result"
    }
   ],
   "source": [
    "df_merged_dataset['avg_price'].describe()"
   ]
  },
  {
   "cell_type": "code",
   "execution_count": 13,
   "id": "ff45a457-a06a-4b51-902d-15d75e023b28",
   "metadata": {},
   "outputs": [
    {
     "data": {
      "text/plain": [
       "count    3.189391e+07\n",
       "mean     7.786021e+00\n",
       "std      7.328643e-01\n",
       "min      1.000000e+00\n",
       "25%      7.375368e+00\n",
       "50%      7.808442e+00\n",
       "75%      8.225000e+00\n",
       "max      2.011429e+01\n",
       "Name: avg_price, dtype: float64"
      ]
     },
     "execution_count": 13,
     "metadata": {},
     "output_type": "execute_result"
    }
   ],
   "source": [
    "# Filter the dataset to keep only rows where price_label is \"Low Volume, High Price\"\n",
    "df_reg_products = df_merged_dataset[df_merged_dataset['prices'] < 15]\n",
    "\n",
    "# Apply describe() to the avg_price column of the filtered dataset\n",
    "df_reg_products['avg_price'].describe()"
   ]
  },
  {
   "cell_type": "code",
   "execution_count": 14,
   "id": "22f5d7a6-a92c-4f49-8898-d5c7d29ee99d",
   "metadata": {},
   "outputs": [],
   "source": [
    "# Define conditions\n",
    "conditions = [\n",
    "    df_merged_dataset['avg_price'] <= 5,\n",
    "    (df_merged_dataset['avg_price'] > 5) & (df_merged_dataset['avg_price'] <= 10),\n",
    "    (df_merged_dataset['avg_price'] > 10) & (df_merged_dataset['avg_price'] <= 15),\n",
    "    df_merged_dataset['avg_price'] > 15\n",
    "]\n",
    "# Define corresponding labels\n",
    "labels = ['Low Spender', \n",
    "          'Moderate Spender', \n",
    "          'High Spender',\n",
    "          'Premium Spender']\n",
    "\n",
    "# Assign loyalty flags using np.select()\n",
    "df_merged_dataset['spending_flag'] = np.select(conditions, labels, default = 'Unknown')"
   ]
  },
  {
   "cell_type": "code",
   "execution_count": 15,
   "id": "4ed8cb11-6e14-43b6-a299-081758ec27af",
   "metadata": {},
   "outputs": [
    {
     "data": {
      "text/plain": [
       "(32403719, 27)"
      ]
     },
     "execution_count": 15,
     "metadata": {},
     "output_type": "execute_result"
    }
   ],
   "source": [
    "#Dimensions\n",
    "df_merged_dataset.shape"
   ]
  },
  {
   "cell_type": "code",
   "execution_count": 16,
   "id": "e9747b70-97b8-4b4b-9079-0392925b5e33",
   "metadata": {},
   "outputs": [
    {
     "data": {
      "text/html": [
       "<div>\n",
       "<style scoped>\n",
       "    .dataframe tbody tr th:only-of-type {\n",
       "        vertical-align: middle;\n",
       "    }\n",
       "\n",
       "    .dataframe tbody tr th {\n",
       "        vertical-align: top;\n",
       "    }\n",
       "\n",
       "    .dataframe thead th {\n",
       "        text-align: right;\n",
       "    }\n",
       "</style>\n",
       "<table border=\"1\" class=\"dataframe\">\n",
       "  <thead>\n",
       "    <tr style=\"text-align: right;\">\n",
       "      <th></th>\n",
       "      <th>spending_flag</th>\n",
       "      <th>count</th>\n",
       "    </tr>\n",
       "  </thead>\n",
       "  <tbody>\n",
       "    <tr>\n",
       "      <th>0</th>\n",
       "      <td>Moderate Spender</td>\n",
       "      <td>32196692</td>\n",
       "    </tr>\n",
       "    <tr>\n",
       "      <th>1</th>\n",
       "      <td>High Spender</td>\n",
       "      <td>119204</td>\n",
       "    </tr>\n",
       "    <tr>\n",
       "      <th>2</th>\n",
       "      <td>Low Spender</td>\n",
       "      <td>87560</td>\n",
       "    </tr>\n",
       "    <tr>\n",
       "      <th>3</th>\n",
       "      <td>Premium Spender</td>\n",
       "      <td>263</td>\n",
       "    </tr>\n",
       "    <tr>\n",
       "      <th>4</th>\n",
       "      <td>Total</td>\n",
       "      <td>32403719</td>\n",
       "    </tr>\n",
       "  </tbody>\n",
       "</table>\n",
       "</div>"
      ],
      "text/plain": [
       "      spending_flag     count\n",
       "0  Moderate Spender  32196692\n",
       "1      High Spender    119204\n",
       "2       Low Spender     87560\n",
       "3   Premium Spender       263\n",
       "4             Total  32403719"
      ]
     },
     "execution_count": 16,
     "metadata": {},
     "output_type": "execute_result"
    }
   ],
   "source": [
    "# Group by label and count occurrences\n",
    "count = df_merged_dataset['spending_flag'].value_counts(dropna=False).reset_index()\n",
    "count.columns = ['spending_flag', 'count']\n",
    "\n",
    "# Add a row for the total sum of unique users\n",
    "total_row = pd.DataFrame({'spending_flag': ['Total'], 'count': [count['count'].sum()]})\n",
    "count = pd.concat([count, total_row], ignore_index=True)\n",
    "\n",
    "# Display the table\n",
    "count"
   ]
  },
  {
   "cell_type": "markdown",
   "id": "4444a006-d8be-41ba-a385-fcbec5c9898e",
   "metadata": {
    "editable": true,
    "slideshow": {
     "slide_type": ""
    },
    "tags": []
   },
   "source": [
    "## 3.6. Max Order"
   ]
  },
  {
   "cell_type": "code",
   "execution_count": 18,
   "id": "6cd5b806-1ada-4cfb-a6ae-1c126273bdb4",
   "metadata": {},
   "outputs": [],
   "source": [
    "#Group by 'user_id' and return the 'max_order' number in new column\n",
    "df_merged_dataset['max_order'] = df_merged_dataset.groupby(['user_id'])['user_order_count'].transform('max')"
   ]
  },
  {
   "cell_type": "code",
   "execution_count": 19,
   "id": "4e5107e1-e49c-463d-94ab-30e1d86177c8",
   "metadata": {},
   "outputs": [
    {
     "data": {
      "text/plain": [
       "(32403719, 28)"
      ]
     },
     "execution_count": 19,
     "metadata": {},
     "output_type": "execute_result"
    }
   ],
   "source": [
    "#Dimensions\n",
    "df_merged_dataset.shape"
   ]
  },
  {
   "cell_type": "markdown",
   "id": "4ec5d810-6d8a-4407-a05a-7d50385449cf",
   "metadata": {},
   "source": [
    "## 3.7. Activity Flag"
   ]
  },
  {
   "cell_type": "code",
   "execution_count": 21,
   "id": "350514f2-7a65-4efa-a716-d3502a521dd9",
   "metadata": {},
   "outputs": [
    {
     "data": {
      "text/plain": [
       "count    3.240372e+07\n",
       "mean     3.305262e+01\n",
       "std      2.515541e+01\n",
       "min      1.000000e+00\n",
       "25%      1.300000e+01\n",
       "50%      2.600000e+01\n",
       "75%      4.700000e+01\n",
       "max      9.900000e+01\n",
       "Name: max_order, dtype: float64"
      ]
     },
     "execution_count": 21,
     "metadata": {},
     "output_type": "execute_result"
    }
   ],
   "source": [
    "df_merged_dataset['max_order'].describe()"
   ]
  },
  {
   "cell_type": "code",
   "execution_count": 22,
   "id": "ce769ff5-e79f-4883-a391-15e41efc904b",
   "metadata": {},
   "outputs": [],
   "source": [
    "# Define conditions\n",
    "conditions = [\n",
    "    df_merged_dataset['max_order'] <= 13, #bottom 25%\n",
    "    (df_merged_dataset['max_order'] > 13) & (df_merged_dataset['max_order'] <= 47), #middle 50%\n",
    "    df_merged_dataset['max_order'] > 47 #top 25%\n",
    "]\n",
    "\n",
    "# Define corresponding labels\n",
    "labels = ['Low Activity', 'Moderate Activity', 'High Activity']\n",
    "\n",
    "# Assign loyalty flags using np.select()\n",
    "df_merged_dataset['activity_flag'] = np.select(conditions, labels, default = 'Unknown')"
   ]
  },
  {
   "cell_type": "code",
   "execution_count": 23,
   "id": "b2a0eb03-7e71-4c9a-8f16-87fca3f93405",
   "metadata": {},
   "outputs": [
    {
     "data": {
      "text/plain": [
       "(32403719, 29)"
      ]
     },
     "execution_count": 23,
     "metadata": {},
     "output_type": "execute_result"
    }
   ],
   "source": [
    "#Dimensions\n",
    "df_merged_dataset.shape"
   ]
  },
  {
   "cell_type": "code",
   "execution_count": 24,
   "id": "6e365630-e460-49a6-b994-3004b0682ebe",
   "metadata": {},
   "outputs": [
    {
     "data": {
      "text/html": [
       "<div>\n",
       "<style scoped>\n",
       "    .dataframe tbody tr th:only-of-type {\n",
       "        vertical-align: middle;\n",
       "    }\n",
       "\n",
       "    .dataframe tbody tr th {\n",
       "        vertical-align: top;\n",
       "    }\n",
       "\n",
       "    .dataframe thead th {\n",
       "        text-align: right;\n",
       "    }\n",
       "</style>\n",
       "<table border=\"1\" class=\"dataframe\">\n",
       "  <thead>\n",
       "    <tr style=\"text-align: right;\">\n",
       "      <th></th>\n",
       "      <th>activity_flag</th>\n",
       "      <th>count</th>\n",
       "    </tr>\n",
       "  </thead>\n",
       "  <tbody>\n",
       "    <tr>\n",
       "      <th>0</th>\n",
       "      <td>Moderate Activity</td>\n",
       "      <td>15940760</td>\n",
       "    </tr>\n",
       "    <tr>\n",
       "      <th>1</th>\n",
       "      <td>Low Activity</td>\n",
       "      <td>8493912</td>\n",
       "    </tr>\n",
       "    <tr>\n",
       "      <th>2</th>\n",
       "      <td>High Activity</td>\n",
       "      <td>7969047</td>\n",
       "    </tr>\n",
       "    <tr>\n",
       "      <th>3</th>\n",
       "      <td>Total</td>\n",
       "      <td>32403719</td>\n",
       "    </tr>\n",
       "  </tbody>\n",
       "</table>\n",
       "</div>"
      ],
      "text/plain": [
       "       activity_flag     count\n",
       "0  Moderate Activity  15940760\n",
       "1       Low Activity   8493912\n",
       "2      High Activity   7969047\n",
       "3              Total  32403719"
      ]
     },
     "execution_count": 24,
     "metadata": {},
     "output_type": "execute_result"
    }
   ],
   "source": [
    "# Group by label and count occurrences\n",
    "count = df_merged_dataset['activity_flag'].value_counts(dropna=False).reset_index()\n",
    "count.columns = ['activity_flag', 'count']\n",
    "\n",
    "# Add a row for the total sum of unique users\n",
    "total_row = pd.DataFrame({'activity_flag': ['Total'], 'count': [count['count'].sum()]})\n",
    "count = pd.concat([count, total_row], ignore_index=True)\n",
    "\n",
    "# Display the table\n",
    "count"
   ]
  },
  {
   "cell_type": "markdown",
   "id": "02b90bb8-4deb-45a2-b536-8ba93e84b1be",
   "metadata": {},
   "source": [
    "# >>> Export / Import"
   ]
  },
  {
   "cell_type": "code",
   "execution_count": 26,
   "id": "36edb7c3-28f1-4c27-890f-205ef85af514",
   "metadata": {},
   "outputs": [],
   "source": [
    "#Export merged dataset\n",
    "df_merged_dataset.to_pickle(os.path.join(path, '02 - Data', 'Prepared Data', 'final_dataset_2.pkl'))"
   ]
  },
  {
   "cell_type": "code",
   "execution_count": 42,
   "id": "7c5c5060-1231-4996-ad6f-bd913c27bbc2",
   "metadata": {},
   "outputs": [],
   "source": [
    "#Import merged dataset\n",
    "df_merged_dataset = pd.read_pickle(os.path.join(path, '02 - Data', 'Prepared Data', 'final_dataset_2.pkl'))"
   ]
  },
  {
   "cell_type": "markdown",
   "id": "6466a65c-59f5-4ad7-99e8-7ef7b9116596",
   "metadata": {},
   "source": [
    "## 3.8. Median Days"
   ]
  },
  {
   "cell_type": "code",
   "execution_count": 44,
   "id": "db047d7f-0b79-4a47-82ef-1cd966324244",
   "metadata": {},
   "outputs": [],
   "source": [
    "#Median of days_since_prior_order by user_id\n",
    "df_merged_dataset['median_days'] = df_merged_dataset.groupby(['user_id'])['days_since_last_order'].transform('median')"
   ]
  },
  {
   "cell_type": "code",
   "execution_count": 45,
   "id": "181eab0f-11f5-471e-a7e4-af900d2c8e5f",
   "metadata": {},
   "outputs": [
    {
     "data": {
      "text/plain": [
       "(32403719, 30)"
      ]
     },
     "execution_count": 45,
     "metadata": {},
     "output_type": "execute_result"
    }
   ],
   "source": [
    "#Dimensions\n",
    "df_merged_dataset.shape"
   ]
  },
  {
   "cell_type": "markdown",
   "id": "f715610c-74a5-4955-a54b-9e210ae56027",
   "metadata": {},
   "source": [
    "## 3.9. Frequency Flag"
   ]
  },
  {
   "cell_type": "code",
   "execution_count": 47,
   "id": "663890ad-0202-4d25-abc8-bedfc1173c7b",
   "metadata": {},
   "outputs": [
    {
     "data": {
      "text/plain": [
       "count    3.240371e+07\n",
       "mean     1.039772e+01\n",
       "std      7.131751e+00\n",
       "min      0.000000e+00\n",
       "25%      6.000000e+00\n",
       "50%      8.000000e+00\n",
       "75%      1.300000e+01\n",
       "max      3.000000e+01\n",
       "Name: median_days, dtype: float64"
      ]
     },
     "execution_count": 47,
     "metadata": {},
     "output_type": "execute_result"
    }
   ],
   "source": [
    "df_merged_dataset['median_days'].describe()"
   ]
  },
  {
   "cell_type": "code",
   "execution_count": 48,
   "id": "428772a6-144f-4993-b571-4b712ae06f52",
   "metadata": {},
   "outputs": [],
   "source": [
    "# Set Pandas to display all rows\n",
    "pd.set_option('display.max_rows', None)"
   ]
  },
  {
   "cell_type": "code",
   "execution_count": 49,
   "id": "ea5ffe29-81e4-4c91-937c-e5150c04d40e",
   "metadata": {
    "scrolled": true
   },
   "outputs": [
    {
     "data": {
      "text/plain": [
       "median_days\n",
       "7.0     5682308\n",
       "6.0     2983630\n",
       "8.0     2713829\n",
       "5.0     2485736\n",
       "4.0     2314265\n",
       "30.0    1683797\n",
       "9.0     1635036\n",
       "3.0     1479979\n",
       "10.0    1271481\n",
       "14.0    1213506\n",
       "13.0    1058462\n",
       "11.0    1050002\n",
       "12.0     970609\n",
       "15.0     744154\n",
       "2.0      561162\n",
       "16.0     514532\n",
       "21.0     421099\n",
       "17.0     399564\n",
       "20.0     372017\n",
       "18.0     356794\n",
       "19.0     349284\n",
       "22.0     265986\n",
       "23.0     201887\n",
       "28.0     199952\n",
       "27.0     173507\n",
       "24.0     169310\n",
       "26.0     161920\n",
       "25.0     152637\n",
       "1.0      152114\n",
       "29.0     136905\n",
       "7.5       50130\n",
       "6.5       45163\n",
       "8.5       36095\n",
       "0.0       34240\n",
       "9.5       33755\n",
       "10.5      30913\n",
       "4.5       29496\n",
       "5.5       28943\n",
       "12.5      25362\n",
       "13.5      23823\n",
       "11.5      19847\n",
       "14.5      17736\n",
       "15.5      15069\n",
       "18.5      14502\n",
       "17.5      12968\n",
       "3.5       12468\n",
       "20.5       9958\n",
       "16.5       9822\n",
       "19.5       9416\n",
       "25.5       7910\n",
       "22.5       7842\n",
       "24.5       7408\n",
       "2.5        7249\n",
       "21.5       7111\n",
       "23.5       6656\n",
       "28.5       6491\n",
       "26.5       5571\n",
       "27.5       5292\n",
       "29.5       5095\n",
       "1.5        1684\n",
       "0.5         235\n",
       "NaN           5\n",
       "Name: count, dtype: int64"
      ]
     },
     "execution_count": 49,
     "metadata": {},
     "output_type": "execute_result"
    }
   ],
   "source": [
    "#Check frequency distribution of new variable\n",
    "df_merged_dataset['median_days'].value_counts(dropna = False)"
   ]
  },
  {
   "cell_type": "code",
   "execution_count": 50,
   "id": "216cc19a-ee5b-42be-8ed2-e41ccb71388b",
   "metadata": {},
   "outputs": [],
   "source": [
    "# Reset display all rows\n",
    "pd.reset_option('display.max_rows')"
   ]
  },
  {
   "cell_type": "code",
   "execution_count": 51,
   "id": "e4c3d30d-a31c-4a54-af7a-6a21cfefd072",
   "metadata": {},
   "outputs": [
    {
     "data": {
      "text/html": [
       "<div>\n",
       "<style scoped>\n",
       "    .dataframe tbody tr th:only-of-type {\n",
       "        vertical-align: middle;\n",
       "    }\n",
       "\n",
       "    .dataframe tbody tr th {\n",
       "        vertical-align: top;\n",
       "    }\n",
       "\n",
       "    .dataframe thead th {\n",
       "        text-align: right;\n",
       "    }\n",
       "</style>\n",
       "<table border=\"1\" class=\"dataframe\">\n",
       "  <thead>\n",
       "    <tr style=\"text-align: right;\">\n",
       "      <th></th>\n",
       "      <th>order_id</th>\n",
       "      <th>user_id</th>\n",
       "      <th>user_order_count</th>\n",
       "      <th>order_day_of_week</th>\n",
       "      <th>order_hour_of_day</th>\n",
       "      <th>days_since_last_order</th>\n",
       "      <th>is_first_order</th>\n",
       "      <th>product_id</th>\n",
       "      <th>add_to_cart_order</th>\n",
       "      <th>reordered</th>\n",
       "      <th>...</th>\n",
       "      <th>income</th>\n",
       "      <th>department</th>\n",
       "      <th>busiest_days</th>\n",
       "      <th>busiest_hours</th>\n",
       "      <th>price_label</th>\n",
       "      <th>avg_price</th>\n",
       "      <th>spending_flag</th>\n",
       "      <th>max_order</th>\n",
       "      <th>activity_flag</th>\n",
       "      <th>median_days</th>\n",
       "    </tr>\n",
       "  </thead>\n",
       "  <tbody>\n",
       "    <tr>\n",
       "      <th>25156010</th>\n",
       "      <td>895835</td>\n",
       "      <td>159838</td>\n",
       "      <td>1</td>\n",
       "      <td>0</td>\n",
       "      <td>17</td>\n",
       "      <td>NaN</td>\n",
       "      <td>True</td>\n",
       "      <td>22198</td>\n",
       "      <td>1</td>\n",
       "      <td>0</td>\n",
       "      <td>...</td>\n",
       "      <td>140994</td>\n",
       "      <td>household</td>\n",
       "      <td>Most Busy</td>\n",
       "      <td>Moderately Busy</td>\n",
       "      <td>Low Price</td>\n",
       "      <td>7.42</td>\n",
       "      <td>Moderate Spender</td>\n",
       "      <td>1</td>\n",
       "      <td>Low Activity</td>\n",
       "      <td>NaN</td>\n",
       "    </tr>\n",
       "    <tr>\n",
       "      <th>25156011</th>\n",
       "      <td>895835</td>\n",
       "      <td>159838</td>\n",
       "      <td>1</td>\n",
       "      <td>0</td>\n",
       "      <td>17</td>\n",
       "      <td>NaN</td>\n",
       "      <td>True</td>\n",
       "      <td>23695</td>\n",
       "      <td>2</td>\n",
       "      <td>0</td>\n",
       "      <td>...</td>\n",
       "      <td>140994</td>\n",
       "      <td>frozen</td>\n",
       "      <td>Most Busy</td>\n",
       "      <td>Moderately Busy</td>\n",
       "      <td>Low Price</td>\n",
       "      <td>7.42</td>\n",
       "      <td>Moderate Spender</td>\n",
       "      <td>1</td>\n",
       "      <td>Low Activity</td>\n",
       "      <td>NaN</td>\n",
       "    </tr>\n",
       "    <tr>\n",
       "      <th>25156012</th>\n",
       "      <td>895835</td>\n",
       "      <td>159838</td>\n",
       "      <td>1</td>\n",
       "      <td>0</td>\n",
       "      <td>17</td>\n",
       "      <td>NaN</td>\n",
       "      <td>True</td>\n",
       "      <td>10749</td>\n",
       "      <td>3</td>\n",
       "      <td>0</td>\n",
       "      <td>...</td>\n",
       "      <td>140994</td>\n",
       "      <td>produce</td>\n",
       "      <td>Most Busy</td>\n",
       "      <td>Moderately Busy</td>\n",
       "      <td>Mid Price</td>\n",
       "      <td>7.42</td>\n",
       "      <td>Moderate Spender</td>\n",
       "      <td>1</td>\n",
       "      <td>Low Activity</td>\n",
       "      <td>NaN</td>\n",
       "    </tr>\n",
       "    <tr>\n",
       "      <th>25156013</th>\n",
       "      <td>895835</td>\n",
       "      <td>159838</td>\n",
       "      <td>1</td>\n",
       "      <td>0</td>\n",
       "      <td>17</td>\n",
       "      <td>NaN</td>\n",
       "      <td>True</td>\n",
       "      <td>21334</td>\n",
       "      <td>5</td>\n",
       "      <td>0</td>\n",
       "      <td>...</td>\n",
       "      <td>140994</td>\n",
       "      <td>produce</td>\n",
       "      <td>Most Busy</td>\n",
       "      <td>Moderately Busy</td>\n",
       "      <td>High Price</td>\n",
       "      <td>7.42</td>\n",
       "      <td>Moderate Spender</td>\n",
       "      <td>1</td>\n",
       "      <td>Low Activity</td>\n",
       "      <td>NaN</td>\n",
       "    </tr>\n",
       "    <tr>\n",
       "      <th>25156014</th>\n",
       "      <td>895835</td>\n",
       "      <td>159838</td>\n",
       "      <td>1</td>\n",
       "      <td>0</td>\n",
       "      <td>17</td>\n",
       "      <td>NaN</td>\n",
       "      <td>True</td>\n",
       "      <td>33401</td>\n",
       "      <td>6</td>\n",
       "      <td>0</td>\n",
       "      <td>...</td>\n",
       "      <td>140994</td>\n",
       "      <td>dairy eggs</td>\n",
       "      <td>Most Busy</td>\n",
       "      <td>Moderately Busy</td>\n",
       "      <td>High Price</td>\n",
       "      <td>7.42</td>\n",
       "      <td>Moderate Spender</td>\n",
       "      <td>1</td>\n",
       "      <td>Low Activity</td>\n",
       "      <td>NaN</td>\n",
       "    </tr>\n",
       "  </tbody>\n",
       "</table>\n",
       "<p>5 rows × 30 columns</p>\n",
       "</div>"
      ],
      "text/plain": [
       "          order_id  user_id  user_order_count  order_day_of_week  \\\n",
       "25156010    895835   159838                 1                  0   \n",
       "25156011    895835   159838                 1                  0   \n",
       "25156012    895835   159838                 1                  0   \n",
       "25156013    895835   159838                 1                  0   \n",
       "25156014    895835   159838                 1                  0   \n",
       "\n",
       "          order_hour_of_day  days_since_last_order  is_first_order  \\\n",
       "25156010                 17                    NaN            True   \n",
       "25156011                 17                    NaN            True   \n",
       "25156012                 17                    NaN            True   \n",
       "25156013                 17                    NaN            True   \n",
       "25156014                 17                    NaN            True   \n",
       "\n",
       "          product_id  add_to_cart_order  reordered  ...  income  department  \\\n",
       "25156010       22198                  1          0  ...  140994   household   \n",
       "25156011       23695                  2          0  ...  140994      frozen   \n",
       "25156012       10749                  3          0  ...  140994     produce   \n",
       "25156013       21334                  5          0  ...  140994     produce   \n",
       "25156014       33401                  6          0  ...  140994  dairy eggs   \n",
       "\n",
       "          busiest_days    busiest_hours price_label avg_price  \\\n",
       "25156010     Most Busy  Moderately Busy   Low Price      7.42   \n",
       "25156011     Most Busy  Moderately Busy   Low Price      7.42   \n",
       "25156012     Most Busy  Moderately Busy   Mid Price      7.42   \n",
       "25156013     Most Busy  Moderately Busy  High Price      7.42   \n",
       "25156014     Most Busy  Moderately Busy  High Price      7.42   \n",
       "\n",
       "             spending_flag max_order  activity_flag median_days  \n",
       "25156010  Moderate Spender         1   Low Activity         NaN  \n",
       "25156011  Moderate Spender         1   Low Activity         NaN  \n",
       "25156012  Moderate Spender         1   Low Activity         NaN  \n",
       "25156013  Moderate Spender         1   Low Activity         NaN  \n",
       "25156014  Moderate Spender         1   Low Activity         NaN  \n",
       "\n",
       "[5 rows x 30 columns]"
      ]
     },
     "execution_count": 51,
     "metadata": {},
     "output_type": "execute_result"
    }
   ],
   "source": [
    "#Variable includes 5 NaN values where days_since_last-order is Nan - Include under Rare Shopper\n",
    "df_null_median_days = df_merged_dataset[df_merged_dataset['median_days'].isna()]\n",
    "df_null_median_days"
   ]
  },
  {
   "cell_type": "code",
   "execution_count": 52,
   "id": "1f2012bf-9bbe-4384-b969-c3ff6fd50e54",
   "metadata": {},
   "outputs": [],
   "source": [
    "# Define conditions\n",
    "conditions = [\n",
    "    df_merged_dataset['median_days'] <= 6,\n",
    "    (df_merged_dataset['median_days'] > 6) & (df_merged_dataset['median_days'] <= 13),\n",
    "    df_merged_dataset['median_days'] > 13,\n",
    "    df_merged_dataset['median_days'].isna()\n",
    "]\n",
    "\n",
    "# Define corresponding labels\n",
    "labels = ['Frequent Shopper', 'Occasional Shopper', 'Rare Shopper', 'Rare Shopper']\n",
    "\n",
    "# Assign loyalty flags using np.select()\n",
    "df_merged_dataset['frequency_flag'] = np.select(conditions, labels, default = 'Unknown')"
   ]
  },
  {
   "cell_type": "code",
   "execution_count": 53,
   "id": "80c1a842-f807-403e-a703-03879345523e",
   "metadata": {},
   "outputs": [
    {
     "data": {
      "text/plain": [
       "(32403719, 31)"
      ]
     },
     "execution_count": 53,
     "metadata": {},
     "output_type": "execute_result"
    }
   ],
   "source": [
    "#Dimensions\n",
    "df_merged_dataset.shape"
   ]
  },
  {
   "cell_type": "code",
   "execution_count": 54,
   "id": "3b6cc863-1a98-42a4-b2eb-164d8d167c6c",
   "metadata": {},
   "outputs": [
    {
     "data": {
      "text/html": [
       "<div>\n",
       "<style scoped>\n",
       "    .dataframe tbody tr th:only-of-type {\n",
       "        vertical-align: middle;\n",
       "    }\n",
       "\n",
       "    .dataframe tbody tr th {\n",
       "        vertical-align: top;\n",
       "    }\n",
       "\n",
       "    .dataframe thead th {\n",
       "        text-align: right;\n",
       "    }\n",
       "</style>\n",
       "<table border=\"1\" class=\"dataframe\">\n",
       "  <thead>\n",
       "    <tr style=\"text-align: right;\">\n",
       "      <th></th>\n",
       "      <th>frequency_flag</th>\n",
       "      <th>count</th>\n",
       "    </tr>\n",
       "  </thead>\n",
       "  <tbody>\n",
       "    <tr>\n",
       "      <th>0</th>\n",
       "      <td>Occasional Shopper</td>\n",
       "      <td>14622992</td>\n",
       "    </tr>\n",
       "    <tr>\n",
       "      <th>1</th>\n",
       "      <td>Frequent Shopper</td>\n",
       "      <td>10091201</td>\n",
       "    </tr>\n",
       "    <tr>\n",
       "      <th>2</th>\n",
       "      <td>Rare Shopper</td>\n",
       "      <td>7689526</td>\n",
       "    </tr>\n",
       "    <tr>\n",
       "      <th>3</th>\n",
       "      <td>Total</td>\n",
       "      <td>32403719</td>\n",
       "    </tr>\n",
       "  </tbody>\n",
       "</table>\n",
       "</div>"
      ],
      "text/plain": [
       "       frequency_flag     count\n",
       "0  Occasional Shopper  14622992\n",
       "1    Frequent Shopper  10091201\n",
       "2        Rare Shopper   7689526\n",
       "3               Total  32403719"
      ]
     },
     "execution_count": 54,
     "metadata": {},
     "output_type": "execute_result"
    }
   ],
   "source": [
    "# Group by label and count occurrences\n",
    "count = df_merged_dataset['frequency_flag'].value_counts(dropna=False).reset_index()\n",
    "count.columns = ['frequency_flag', 'count']\n",
    "\n",
    "# Add a row for the total sum of unique users\n",
    "total_row = pd.DataFrame({'frequency_flag': ['Total'], 'count': [count['count'].sum()]})\n",
    "count = pd.concat([count, total_row], ignore_index=True)\n",
    "\n",
    "# Display the table\n",
    "count"
   ]
  },
  {
   "cell_type": "markdown",
   "id": "b3d32a5f-3783-4ed2-96a0-600f98a554f6",
   "metadata": {
    "editable": true,
    "slideshow": {
     "slide_type": ""
    },
    "tags": []
   },
   "source": [
    "## 3.10. Loyalty Score"
   ]
  },
  {
   "cell_type": "code",
   "execution_count": 56,
   "id": "89333778-794c-4615-9abc-139409d26a08",
   "metadata": {},
   "outputs": [],
   "source": [
    "# Define mapping of flags to numerical scores\n",
    "spending_mapping = {'Low Spender': 1, 'Moderate Spender': 2, 'High Spender': 3, 'Premium Spender': 4}\n",
    "activity_mapping = {'Low Activity': 1, 'Moderate Activity': 2, 'High Activity': 3}\n",
    "frequency_mapping = {'Rare Shopper': 1, 'Occasional Shopper': 2, 'Frequent Shopper': 3}\n",
    "\n",
    "# Map the categorical flags to numerical scores\n",
    "df_merged_dataset['spending_score'] = df_merged_dataset['spending_flag'].map(spending_mapping)\n",
    "df_merged_dataset['activity_score'] = df_merged_dataset['activity_flag'].map(activity_mapping)\n",
    "df_merged_dataset['frequency_score'] = df_merged_dataset['frequency_flag'].map(frequency_mapping)\n",
    "\n",
    "# Calculate the Total Loyalty Score\n",
    "df_merged_dataset['total_loyalty_score'] = (\n",
    "    df_merged_dataset['spending_score'] +\n",
    "    df_merged_dataset['activity_score'] +\n",
    "    df_merged_dataset['frequency_score']\n",
    ")"
   ]
  },
  {
   "cell_type": "code",
   "execution_count": 57,
   "id": "397c48b9-0583-4dd4-b469-ff8f351ef12b",
   "metadata": {},
   "outputs": [
    {
     "data": {
      "text/plain": [
       "(32403719, 35)"
      ]
     },
     "execution_count": 57,
     "metadata": {},
     "output_type": "execute_result"
    }
   ],
   "source": [
    "#Dimensions\n",
    "df_merged_dataset.shape"
   ]
  },
  {
   "cell_type": "code",
   "execution_count": 58,
   "id": "5dd24e78-f462-4d1b-b4b9-bcfb99ce833b",
   "metadata": {},
   "outputs": [
    {
     "data": {
      "text/html": [
       "<div>\n",
       "<style scoped>\n",
       "    .dataframe tbody tr th:only-of-type {\n",
       "        vertical-align: middle;\n",
       "    }\n",
       "\n",
       "    .dataframe tbody tr th {\n",
       "        vertical-align: top;\n",
       "    }\n",
       "\n",
       "    .dataframe thead th {\n",
       "        text-align: right;\n",
       "    }\n",
       "</style>\n",
       "<table border=\"1\" class=\"dataframe\">\n",
       "  <thead>\n",
       "    <tr style=\"text-align: right;\">\n",
       "      <th></th>\n",
       "      <th>spending_score</th>\n",
       "      <th>count</th>\n",
       "    </tr>\n",
       "  </thead>\n",
       "  <tbody>\n",
       "    <tr>\n",
       "      <th>0</th>\n",
       "      <td>2</td>\n",
       "      <td>32196692</td>\n",
       "    </tr>\n",
       "    <tr>\n",
       "      <th>1</th>\n",
       "      <td>3</td>\n",
       "      <td>119204</td>\n",
       "    </tr>\n",
       "    <tr>\n",
       "      <th>2</th>\n",
       "      <td>1</td>\n",
       "      <td>87560</td>\n",
       "    </tr>\n",
       "    <tr>\n",
       "      <th>3</th>\n",
       "      <td>4</td>\n",
       "      <td>263</td>\n",
       "    </tr>\n",
       "    <tr>\n",
       "      <th>4</th>\n",
       "      <td>Total</td>\n",
       "      <td>32403719</td>\n",
       "    </tr>\n",
       "  </tbody>\n",
       "</table>\n",
       "</div>"
      ],
      "text/plain": [
       "  spending_score     count\n",
       "0              2  32196692\n",
       "1              3    119204\n",
       "2              1     87560\n",
       "3              4       263\n",
       "4          Total  32403719"
      ]
     },
     "execution_count": 58,
     "metadata": {},
     "output_type": "execute_result"
    }
   ],
   "source": [
    "# Group by label and count occurrences\n",
    "count = df_merged_dataset['spending_score'].value_counts(dropna=False).reset_index()\n",
    "count.columns = ['spending_score', 'count']\n",
    "\n",
    "# Add a row for the tQotal sum of unique users\n",
    "total_row = pd.DataFrame({'spending_score': ['Total'], 'count': [count['count'].sum()]})\n",
    "count = pd.concat([count, total_row], ignore_index=True)\n",
    "\n",
    "# Display the table\n",
    "count"
   ]
  },
  {
   "cell_type": "code",
   "execution_count": 59,
   "id": "612a5e40-0a76-4713-ad4e-83772b1ebca6",
   "metadata": {},
   "outputs": [
    {
     "data": {
      "text/html": [
       "<div>\n",
       "<style scoped>\n",
       "    .dataframe tbody tr th:only-of-type {\n",
       "        vertical-align: middle;\n",
       "    }\n",
       "\n",
       "    .dataframe tbody tr th {\n",
       "        vertical-align: top;\n",
       "    }\n",
       "\n",
       "    .dataframe thead th {\n",
       "        text-align: right;\n",
       "    }\n",
       "</style>\n",
       "<table border=\"1\" class=\"dataframe\">\n",
       "  <thead>\n",
       "    <tr style=\"text-align: right;\">\n",
       "      <th></th>\n",
       "      <th>activity_score</th>\n",
       "      <th>count</th>\n",
       "    </tr>\n",
       "  </thead>\n",
       "  <tbody>\n",
       "    <tr>\n",
       "      <th>0</th>\n",
       "      <td>2</td>\n",
       "      <td>15940760</td>\n",
       "    </tr>\n",
       "    <tr>\n",
       "      <th>1</th>\n",
       "      <td>1</td>\n",
       "      <td>8493912</td>\n",
       "    </tr>\n",
       "    <tr>\n",
       "      <th>2</th>\n",
       "      <td>3</td>\n",
       "      <td>7969047</td>\n",
       "    </tr>\n",
       "    <tr>\n",
       "      <th>3</th>\n",
       "      <td>Total</td>\n",
       "      <td>32403719</td>\n",
       "    </tr>\n",
       "  </tbody>\n",
       "</table>\n",
       "</div>"
      ],
      "text/plain": [
       "  activity_score     count\n",
       "0              2  15940760\n",
       "1              1   8493912\n",
       "2              3   7969047\n",
       "3          Total  32403719"
      ]
     },
     "execution_count": 59,
     "metadata": {},
     "output_type": "execute_result"
    }
   ],
   "source": [
    "# Group by label and count occurrences\n",
    "count = df_merged_dataset['activity_score'].value_counts(dropna=False).reset_index()\n",
    "count.columns = ['activity_score', 'count']\n",
    "\n",
    "# Add a row for the total sum of unique users\n",
    "total_row = pd.DataFrame({'activity_score': ['Total'], 'count': [count['count'].sum()]})\n",
    "count = pd.concat([count, total_row], ignore_index=True)\n",
    "\n",
    "# Display the table\n",
    "count"
   ]
  },
  {
   "cell_type": "code",
   "execution_count": 60,
   "id": "c160d744-8d18-439c-ae5b-593c850af73e",
   "metadata": {},
   "outputs": [
    {
     "data": {
      "text/html": [
       "<div>\n",
       "<style scoped>\n",
       "    .dataframe tbody tr th:only-of-type {\n",
       "        vertical-align: middle;\n",
       "    }\n",
       "\n",
       "    .dataframe tbody tr th {\n",
       "        vertical-align: top;\n",
       "    }\n",
       "\n",
       "    .dataframe thead th {\n",
       "        text-align: right;\n",
       "    }\n",
       "</style>\n",
       "<table border=\"1\" class=\"dataframe\">\n",
       "  <thead>\n",
       "    <tr style=\"text-align: right;\">\n",
       "      <th></th>\n",
       "      <th>frequency_score</th>\n",
       "      <th>count</th>\n",
       "    </tr>\n",
       "  </thead>\n",
       "  <tbody>\n",
       "    <tr>\n",
       "      <th>0</th>\n",
       "      <td>2</td>\n",
       "      <td>14622992</td>\n",
       "    </tr>\n",
       "    <tr>\n",
       "      <th>1</th>\n",
       "      <td>3</td>\n",
       "      <td>10091201</td>\n",
       "    </tr>\n",
       "    <tr>\n",
       "      <th>2</th>\n",
       "      <td>1</td>\n",
       "      <td>7689526</td>\n",
       "    </tr>\n",
       "    <tr>\n",
       "      <th>3</th>\n",
       "      <td>Total</td>\n",
       "      <td>32403719</td>\n",
       "    </tr>\n",
       "  </tbody>\n",
       "</table>\n",
       "</div>"
      ],
      "text/plain": [
       "  frequency_score     count\n",
       "0               2  14622992\n",
       "1               3  10091201\n",
       "2               1   7689526\n",
       "3           Total  32403719"
      ]
     },
     "execution_count": 60,
     "metadata": {},
     "output_type": "execute_result"
    }
   ],
   "source": [
    "# Group by label and count occurrences\n",
    "count = df_merged_dataset['frequency_score'].value_counts(dropna=False).reset_index()\n",
    "count.columns = ['frequency_score', 'count']\n",
    "\n",
    "# Add a row for the total sum of unique users\n",
    "total_row = pd.DataFrame({'frequency_score': ['Total'], 'count': [count['count'].sum()]})\n",
    "count = pd.concat([count, total_row], ignore_index=True)\n",
    "\n",
    "# Display the table\n",
    "count"
   ]
  },
  {
   "cell_type": "code",
   "execution_count": 61,
   "id": "3e8cf6a5-367f-4068-b731-17244585ddc4",
   "metadata": {},
   "outputs": [
    {
     "data": {
      "text/html": [
       "<div>\n",
       "<style scoped>\n",
       "    .dataframe tbody tr th:only-of-type {\n",
       "        vertical-align: middle;\n",
       "    }\n",
       "\n",
       "    .dataframe tbody tr th {\n",
       "        vertical-align: top;\n",
       "    }\n",
       "\n",
       "    .dataframe thead th {\n",
       "        text-align: right;\n",
       "    }\n",
       "</style>\n",
       "<table border=\"1\" class=\"dataframe\">\n",
       "  <thead>\n",
       "    <tr style=\"text-align: right;\">\n",
       "      <th></th>\n",
       "      <th>total_loyalty_score</th>\n",
       "      <th>count</th>\n",
       "    </tr>\n",
       "  </thead>\n",
       "  <tbody>\n",
       "    <tr>\n",
       "      <th>0</th>\n",
       "      <td>6</td>\n",
       "      <td>11423219</td>\n",
       "    </tr>\n",
       "    <tr>\n",
       "      <th>1</th>\n",
       "      <td>8</td>\n",
       "      <td>6585629</td>\n",
       "    </tr>\n",
       "    <tr>\n",
       "      <th>2</th>\n",
       "      <td>4</td>\n",
       "      <td>5146185</td>\n",
       "    </tr>\n",
       "    <tr>\n",
       "      <th>3</th>\n",
       "      <td>5</td>\n",
       "      <td>5058067</td>\n",
       "    </tr>\n",
       "    <tr>\n",
       "      <th>4</th>\n",
       "      <td>7</td>\n",
       "      <td>4151600</td>\n",
       "    </tr>\n",
       "    <tr>\n",
       "      <th>5</th>\n",
       "      <td>3</td>\n",
       "      <td>30083</td>\n",
       "    </tr>\n",
       "    <tr>\n",
       "      <th>6</th>\n",
       "      <td>9</td>\n",
       "      <td>8936</td>\n",
       "    </tr>\n",
       "    <tr>\n",
       "      <th>7</th>\n",
       "      <td>Total</td>\n",
       "      <td>32403719</td>\n",
       "    </tr>\n",
       "  </tbody>\n",
       "</table>\n",
       "</div>"
      ],
      "text/plain": [
       "  total_loyalty_score     count\n",
       "0                   6  11423219\n",
       "1                   8   6585629\n",
       "2                   4   5146185\n",
       "3                   5   5058067\n",
       "4                   7   4151600\n",
       "5                   3     30083\n",
       "6                   9      8936\n",
       "7               Total  32403719"
      ]
     },
     "execution_count": 61,
     "metadata": {},
     "output_type": "execute_result"
    }
   ],
   "source": [
    "# Group by label and count occurrences\n",
    "count = df_merged_dataset['total_loyalty_score'].value_counts(dropna=False).reset_index()\n",
    "count.columns = ['total_loyalty_score', 'count']\n",
    "\n",
    "# Add a row for the total sum of unique users\n",
    "total_row = pd.DataFrame({'total_loyalty_score': ['Total'], 'count': [count['count'].sum()]})\n",
    "count = pd.concat([count, total_row], ignore_index=True)\n",
    "\n",
    "# Display the table\n",
    "count"
   ]
  },
  {
   "cell_type": "markdown",
   "id": "afb53048-70ec-4573-85ba-61477d2b8df5",
   "metadata": {},
   "source": [
    "## 3.11. Loyalty Flag"
   ]
  },
  {
   "cell_type": "code",
   "execution_count": 63,
   "id": "f2360a5e-ca14-4f84-ab4c-64af4cc18937",
   "metadata": {},
   "outputs": [
    {
     "data": {
      "text/plain": [
       "count    3.240372e+07\n",
       "mean     6.058912e+00\n",
       "std      1.319011e+00\n",
       "min      3.000000e+00\n",
       "25%      5.000000e+00\n",
       "50%      6.000000e+00\n",
       "75%      7.000000e+00\n",
       "max      9.000000e+00\n",
       "Name: total_loyalty_score, dtype: float64"
      ]
     },
     "execution_count": 63,
     "metadata": {},
     "output_type": "execute_result"
    }
   ],
   "source": [
    "df_merged_dataset['total_loyalty_score'].describe()"
   ]
  },
  {
   "cell_type": "code",
   "execution_count": 64,
   "id": "4fa64eec-7611-454f-87d3-9581123a078f",
   "metadata": {},
   "outputs": [],
   "source": [
    "# Define conditions for loyalty categories\n",
    "conditions = [\n",
    "    (df_merged_dataset['total_loyalty_score'] <= 4),\n",
    "    (df_merged_dataset['total_loyalty_score'] > 4) & (df_merged_dataset['total_loyalty_score'] <= 7),\n",
    "    (df_merged_dataset['total_loyalty_score'] > 7)\n",
    "]\n",
    "\n",
    "# Define corresponding loyalty categories\n",
    "labels = ['Low Loyalty', 'Moderate Loyalty', 'High Loyalty']\n",
    "\n",
    "# Assign loyalty categories based on conditions\n",
    "df_merged_dataset['loyalty_flag'] = np.select(conditions, labels, default = 'Unknown')"
   ]
  },
  {
   "cell_type": "code",
   "execution_count": 65,
   "id": "92760514-1624-4544-9900-ac835d47be7f",
   "metadata": {},
   "outputs": [
    {
     "data": {
      "text/plain": [
       "(32403719, 36)"
      ]
     },
     "execution_count": 65,
     "metadata": {},
     "output_type": "execute_result"
    }
   ],
   "source": [
    "#Dimensions\n",
    "df_merged_dataset.shape"
   ]
  },
  {
   "cell_type": "code",
   "execution_count": 66,
   "id": "58131b28-5c84-4d97-906b-6bce89d6ca86",
   "metadata": {},
   "outputs": [
    {
     "data": {
      "text/html": [
       "<div>\n",
       "<style scoped>\n",
       "    .dataframe tbody tr th:only-of-type {\n",
       "        vertical-align: middle;\n",
       "    }\n",
       "\n",
       "    .dataframe tbody tr th {\n",
       "        vertical-align: top;\n",
       "    }\n",
       "\n",
       "    .dataframe thead th {\n",
       "        text-align: right;\n",
       "    }\n",
       "</style>\n",
       "<table border=\"1\" class=\"dataframe\">\n",
       "  <thead>\n",
       "    <tr style=\"text-align: right;\">\n",
       "      <th></th>\n",
       "      <th>loyalty_flag</th>\n",
       "      <th>count</th>\n",
       "    </tr>\n",
       "  </thead>\n",
       "  <tbody>\n",
       "    <tr>\n",
       "      <th>0</th>\n",
       "      <td>Moderate Loyalty</td>\n",
       "      <td>20632886</td>\n",
       "    </tr>\n",
       "    <tr>\n",
       "      <th>1</th>\n",
       "      <td>High Loyalty</td>\n",
       "      <td>6594565</td>\n",
       "    </tr>\n",
       "    <tr>\n",
       "      <th>2</th>\n",
       "      <td>Low Loyalty</td>\n",
       "      <td>5176268</td>\n",
       "    </tr>\n",
       "    <tr>\n",
       "      <th>3</th>\n",
       "      <td>Total</td>\n",
       "      <td>32403719</td>\n",
       "    </tr>\n",
       "  </tbody>\n",
       "</table>\n",
       "</div>"
      ],
      "text/plain": [
       "       loyalty_flag     count\n",
       "0  Moderate Loyalty  20632886\n",
       "1      High Loyalty   6594565\n",
       "2       Low Loyalty   5176268\n",
       "3             Total  32403719"
      ]
     },
     "execution_count": 66,
     "metadata": {},
     "output_type": "execute_result"
    }
   ],
   "source": [
    "# Group by label and count occurrences\n",
    "count = df_merged_dataset['loyalty_flag'].value_counts(dropna=False).reset_index()\n",
    "count.columns = ['loyalty_flag', 'count']\n",
    "\n",
    "# Add a row for the total sum of unique users\n",
    "total_row = pd.DataFrame({'loyalty_flag': ['Total'], 'count': [count['count'].sum()]})\n",
    "count = pd.concat([count, total_row], ignore_index=True)\n",
    "\n",
    "# Display the table\n",
    "count"
   ]
  },
  {
   "cell_type": "markdown",
   "id": "751bf561-44bf-4981-9341-93529fb39f26",
   "metadata": {},
   "source": [
    "# >>> Export / Import"
   ]
  },
  {
   "cell_type": "code",
   "execution_count": 68,
   "id": "fd514c63-7e1d-4099-b540-f049249233f8",
   "metadata": {},
   "outputs": [],
   "source": [
    "#Export merged dataset\n",
    "df_merged_dataset.to_pickle(os.path.join(path, '02 - Data', 'Prepared Data', 'final_dataset_3.pkl'))"
   ]
  },
  {
   "cell_type": "code",
   "execution_count": 10,
   "id": "9cf51d16-61d3-4721-9e82-0733c0b6aa81",
   "metadata": {},
   "outputs": [],
   "source": [
    "#Import merged dataset\n",
    "df_merged_dataset = pd.read_pickle(os.path.join(path, '02 - Data', 'Prepared Data', 'final_dataset_3.pkl'))"
   ]
  },
  {
   "cell_type": "markdown",
   "id": "045a0f07-57f5-49ad-9680-61fe58c5b1d5",
   "metadata": {
    "editable": true,
    "slideshow": {
     "slide_type": ""
    },
    "tags": []
   },
   "source": [
    "## 3.12. Region"
   ]
  },
  {
   "cell_type": "code",
   "execution_count": 107,
   "id": "a3224481-82bd-499c-8d71-6a2b406d2116",
   "metadata": {
    "editable": true,
    "scrolled": true,
    "slideshow": {
     "slide_type": ""
    },
    "tags": []
   },
   "outputs": [
    {
     "data": {
      "text/plain": [
       "state\n",
       "Alabama                 637971\n",
       "Alaska                  648487\n",
       "Arizona                 653930\n",
       "Arkansas                636136\n",
       "California              659765\n",
       "Colorado                639260\n",
       "Connecticut             622998\n",
       "Delaware                637000\n",
       "District of Columbia    613685\n",
       "Florida                 629023\n",
       "Georgia                 656373\n",
       "Hawaii                  632887\n",
       "Idaho                   607091\n",
       "Illinois                632998\n",
       "Indiana                 627258\n",
       "Iowa                    625475\n",
       "Kansas                  637516\n",
       "Kentucky                632484\n",
       "Louisiana               637466\n",
       "Maine                   638559\n",
       "Maryland                626555\n",
       "Massachusetts           646352\n",
       "Michigan                630918\n",
       "Minnesota               647791\n",
       "Mississippi             632637\n",
       "Missouri                640706\n",
       "Montana                 635241\n",
       "Nebraska                625771\n",
       "Nevada                  636117\n",
       "New Hampshire           615366\n",
       "New Jersey              627644\n",
       "New Mexico              654478\n",
       "New York                635965\n",
       "North Carolina          651886\n",
       "North Dakota            638473\n",
       "Ohio                    628285\n",
       "Oklahoma                651701\n",
       "Oregon                  636403\n",
       "Pennsylvania            667062\n",
       "Rhode Island            656891\n",
       "South Carolina          636708\n",
       "South Dakota            633754\n",
       "Tennessee               617835\n",
       "Texas                   640366\n",
       "Utah                    611913\n",
       "Vermont                 611713\n",
       "Virginia                641409\n",
       "Washington              632826\n",
       "West Virginia           612278\n",
       "Wisconsin               628070\n",
       "Wyoming                 644243\n",
       "Name: count, dtype: int64"
      ]
     },
     "execution_count": 107,
     "metadata": {},
     "output_type": "execute_result"
    }
   ],
   "source": [
    "#View values in state variable\n",
    "df_merged_dataset['state'].value_counts(dropna = False).sort_index()"
   ]
  },
  {
   "cell_type": "code",
   "execution_count": 110,
   "id": "bcdeda5f-97ae-49e2-959b-bf15296c7661",
   "metadata": {
    "editable": true,
    "slideshow": {
     "slide_type": ""
    },
    "tags": []
   },
   "outputs": [
    {
     "data": {
      "text/plain": [
       "51"
      ]
     },
     "execution_count": 110,
     "metadata": {},
     "output_type": "execute_result"
    }
   ],
   "source": [
    "#Count values in state variable\n",
    "df_merged_dataset['state'].nunique(dropna = False)"
   ]
  },
  {
   "cell_type": "code",
   "execution_count": 112,
   "id": "6e3875cf-e582-4dc2-ad26-918c77c05126",
   "metadata": {
    "editable": true,
    "slideshow": {
     "slide_type": ""
    },
    "tags": []
   },
   "outputs": [],
   "source": [
    "#Allocate states to regions\n",
    "result_3 = []\n",
    "for value in df_merged_dataset['state']:\n",
    "  if value in ['Maine', 'New Hampshire', 'Vermont', 'Massachusetts', 'Rhode Island', 'Connecticut', 'New York', 'Pennsylvania', 'New Jersey']:\n",
    "    result_3.append('Northeast')\n",
    "  elif value in ['Wisconsin', 'Michigan', 'Illinois', 'Indiana', 'Ohio', 'North Dakota', 'South Dakota', 'Nebraska', 'Kansas', 'Minnesota', 'Iowa', 'Missouri']:\n",
    "    result_3.append('Midwest')\n",
    "  elif value in ['Delaware', 'Maryland', 'District of Columbia', 'Virginia', 'West Virginia', 'North Carolina', 'South Carolina', 'Georgia', 'Florida', 'Kentucky', 'Tennessee', 'Mississippi', 'Alabama', 'Oklahoma', 'Texas', 'Arkansas', 'Louisiana']:\n",
    "    result_3.append('South')\n",
    "  elif value in ['Idaho', 'Montana', 'Wyoming', 'Nevada', 'Utah', 'Colorado', 'Arizona', 'New Mexico', 'Alaska', 'Washington', 'Oregon', 'California', 'Hawaii']:\n",
    "    result_3.append('West')\n",
    "  else:\n",
    "    result_3.append('Unallocated') "
   ]
  },
  {
   "cell_type": "code",
   "execution_count": 113,
   "id": "384635f9-e683-426f-960b-b96de7787eb7",
   "metadata": {
    "editable": true,
    "slideshow": {
     "slide_type": ""
    },
    "tags": []
   },
   "outputs": [],
   "source": [
    "#Assign result to a new column\n",
    "df_merged_dataset['region'] = result_3"
   ]
  },
  {
   "cell_type": "code",
   "execution_count": 114,
   "id": "2aa7aec6-14ab-4dc7-9149-bce4cd64c931",
   "metadata": {
    "editable": true,
    "slideshow": {
     "slide_type": ""
    },
    "tags": []
   },
   "outputs": [
    {
     "data": {
      "text/plain": [
       "(32403719, 37)"
      ]
     },
     "execution_count": 114,
     "metadata": {},
     "output_type": "execute_result"
    }
   ],
   "source": [
    "#Get dimensions\n",
    "df_merged_dataset.shape"
   ]
  },
  {
   "cell_type": "code",
   "execution_count": 116,
   "id": "ac2db8d6-d60d-45cb-b0e4-41c63d01378e",
   "metadata": {},
   "outputs": [
    {
     "data": {
      "text/html": [
       "<div>\n",
       "<style scoped>\n",
       "    .dataframe tbody tr th:only-of-type {\n",
       "        vertical-align: middle;\n",
       "    }\n",
       "\n",
       "    .dataframe tbody tr th {\n",
       "        vertical-align: top;\n",
       "    }\n",
       "\n",
       "    .dataframe thead th {\n",
       "        text-align: right;\n",
       "    }\n",
       "</style>\n",
       "<table border=\"1\" class=\"dataframe\">\n",
       "  <thead>\n",
       "    <tr style=\"text-align: right;\">\n",
       "      <th></th>\n",
       "      <th>region</th>\n",
       "      <th>count</th>\n",
       "    </tr>\n",
       "  </thead>\n",
       "  <tbody>\n",
       "    <tr>\n",
       "      <th>0</th>\n",
       "      <td>South</td>\n",
       "      <td>10791513</td>\n",
       "    </tr>\n",
       "    <tr>\n",
       "      <th>1</th>\n",
       "      <td>West</td>\n",
       "      <td>8292641</td>\n",
       "    </tr>\n",
       "    <tr>\n",
       "      <th>2</th>\n",
       "      <td>Midwest</td>\n",
       "      <td>7597015</td>\n",
       "    </tr>\n",
       "    <tr>\n",
       "      <th>3</th>\n",
       "      <td>Northeast</td>\n",
       "      <td>5722550</td>\n",
       "    </tr>\n",
       "    <tr>\n",
       "      <th>4</th>\n",
       "      <td>Total</td>\n",
       "      <td>32403719</td>\n",
       "    </tr>\n",
       "  </tbody>\n",
       "</table>\n",
       "</div>"
      ],
      "text/plain": [
       "      region     count\n",
       "0      South  10791513\n",
       "1       West   8292641\n",
       "2    Midwest   7597015\n",
       "3  Northeast   5722550\n",
       "4      Total  32403719"
      ]
     },
     "execution_count": 116,
     "metadata": {},
     "output_type": "execute_result"
    }
   ],
   "source": [
    "# Group by label and count occurrences\n",
    "count = df_merged_dataset['region'].value_counts(dropna=False).reset_index()\n",
    "count.columns = ['region', 'count']\n",
    "\n",
    "# Add a row for the total sum of unique users\n",
    "total_row = pd.DataFrame({'region': ['Total'], 'count': [count['count'].sum()]})\n",
    "count = pd.concat([count, total_row], ignore_index=True)\n",
    "\n",
    "# Display the table\n",
    "count"
   ]
  },
  {
   "cell_type": "markdown",
   "id": "533b997c-3acd-4884-832d-40d41606936e",
   "metadata": {},
   "source": [
    "## 3.13. Age"
   ]
  },
  {
   "cell_type": "code",
   "execution_count": 118,
   "id": "2740daa7-2af3-4fd6-8fd9-8f49717631ec",
   "metadata": {},
   "outputs": [
    {
     "data": {
      "text/plain": [
       "age\n",
       "18    500446\n",
       "19    519596\n",
       "20    502830\n",
       "21    512511\n",
       "22    513815\n",
       "       ...  \n",
       "77    502108\n",
       "78    495299\n",
       "79    529724\n",
       "80    515224\n",
       "81    509282\n",
       "Name: count, Length: 64, dtype: int64"
      ]
     },
     "execution_count": 118,
     "metadata": {},
     "output_type": "execute_result"
    }
   ],
   "source": [
    "#View values in 'age' column\n",
    "df_merged_dataset['age'].value_counts(dropna = False).sort_index()"
   ]
  },
  {
   "cell_type": "code",
   "execution_count": 119,
   "id": "dc5b4eff-2481-47d6-b2ad-e5dde08a444c",
   "metadata": {},
   "outputs": [
    {
     "data": {
      "text/plain": [
       "count    3.240372e+07\n",
       "mean     4.946528e+01\n",
       "std      1.848556e+01\n",
       "min      1.800000e+01\n",
       "25%      3.300000e+01\n",
       "50%      4.900000e+01\n",
       "75%      6.500000e+01\n",
       "max      8.100000e+01\n",
       "Name: age, dtype: float64"
      ]
     },
     "execution_count": 119,
     "metadata": {},
     "output_type": "execute_result"
    }
   ],
   "source": [
    "df_merged_dataset['age'].describe()"
   ]
  },
  {
   "cell_type": "code",
   "execution_count": 120,
   "id": "1363acbe-19eb-4c6a-bd13-a6ddb9458c82",
   "metadata": {},
   "outputs": [],
   "source": [
    "#Allocate age\n",
    "result_4 = []\n",
    "for value in df_merged_dataset['age']:\n",
    "  if value <= 25:\n",
    "    result_4.append('Young Adult')\n",
    "  elif value <= 45:\n",
    "    result_4.append('Adult')\n",
    "  elif value <= 65:\n",
    "    result_4.append('Middle Aged')\n",
    "  else:\n",
    "    result_4.append('Senior')"
   ]
  },
  {
   "cell_type": "code",
   "execution_count": 121,
   "id": "649b0502-eb0a-4b5b-b624-9187b293ad5d",
   "metadata": {},
   "outputs": [],
   "source": [
    "#Assign result to a new column\n",
    "df_merged_dataset['age_profile'] = result_4"
   ]
  },
  {
   "cell_type": "code",
   "execution_count": 122,
   "id": "347c17f9-7aec-4f67-a513-b938110ef857",
   "metadata": {},
   "outputs": [
    {
     "data": {
      "text/plain": [
       "(32403719, 38)"
      ]
     },
     "execution_count": 122,
     "metadata": {},
     "output_type": "execute_result"
    }
   ],
   "source": [
    "#View dimensions\n",
    "df_merged_dataset.shape"
   ]
  },
  {
   "cell_type": "code",
   "execution_count": 123,
   "id": "a7754f94-de7c-4052-a609-4f461860ac56",
   "metadata": {},
   "outputs": [
    {
     "data": {
      "text/html": [
       "<div>\n",
       "<style scoped>\n",
       "    .dataframe tbody tr th:only-of-type {\n",
       "        vertical-align: middle;\n",
       "    }\n",
       "\n",
       "    .dataframe tbody tr th {\n",
       "        vertical-align: top;\n",
       "    }\n",
       "\n",
       "    .dataframe thead th {\n",
       "        text-align: right;\n",
       "    }\n",
       "</style>\n",
       "<table border=\"1\" class=\"dataframe\">\n",
       "  <thead>\n",
       "    <tr style=\"text-align: right;\">\n",
       "      <th></th>\n",
       "      <th>age_profile</th>\n",
       "      <th>count</th>\n",
       "    </tr>\n",
       "  </thead>\n",
       "  <tbody>\n",
       "    <tr>\n",
       "      <th>0</th>\n",
       "      <td>Adult</td>\n",
       "      <td>10155790</td>\n",
       "    </tr>\n",
       "    <tr>\n",
       "      <th>1</th>\n",
       "      <td>Middle Aged</td>\n",
       "      <td>10115107</td>\n",
       "    </tr>\n",
       "    <tr>\n",
       "      <th>2</th>\n",
       "      <td>Senior</td>\n",
       "      <td>8087791</td>\n",
       "    </tr>\n",
       "    <tr>\n",
       "      <th>3</th>\n",
       "      <td>Young Adult</td>\n",
       "      <td>4045031</td>\n",
       "    </tr>\n",
       "    <tr>\n",
       "      <th>4</th>\n",
       "      <td>Total</td>\n",
       "      <td>32403719</td>\n",
       "    </tr>\n",
       "  </tbody>\n",
       "</table>\n",
       "</div>"
      ],
      "text/plain": [
       "   age_profile     count\n",
       "0        Adult  10155790\n",
       "1  Middle Aged  10115107\n",
       "2       Senior   8087791\n",
       "3  Young Adult   4045031\n",
       "4        Total  32403719"
      ]
     },
     "execution_count": 123,
     "metadata": {},
     "output_type": "execute_result"
    }
   ],
   "source": [
    "# Group by label and count occurrences\n",
    "count = df_merged_dataset['age_profile'].value_counts(dropna=False).reset_index()\n",
    "count.columns = ['age_profile', 'count']\n",
    "\n",
    "# Add a row for the total sum of unique users\n",
    "total_row = pd.DataFrame({'age_profile': ['Total'], 'count': [count['count'].sum()]})\n",
    "count = pd.concat([count, total_row], ignore_index=True)\n",
    "\n",
    "# Display the table\n",
    "count"
   ]
  },
  {
   "cell_type": "markdown",
   "id": "ba0b1705-de37-48eb-a50c-870485e71d1d",
   "metadata": {},
   "source": [
    "## 3.14. Income"
   ]
  },
  {
   "cell_type": "code",
   "execution_count": 125,
   "id": "d54dfe71-1fda-4af2-b796-3b3102dca995",
   "metadata": {},
   "outputs": [
    {
     "data": {
      "text/plain": [
       "count    3.240372e+07\n",
       "mean     9.943758e+04\n",
       "std      4.305685e+04\n",
       "min      2.590300e+04\n",
       "25%      6.700300e+04\n",
       "50%      9.661700e+04\n",
       "75%      1.279120e+05\n",
       "max      5.939010e+05\n",
       "Name: income, dtype: float64"
      ]
     },
     "execution_count": 125,
     "metadata": {},
     "output_type": "execute_result"
    }
   ],
   "source": [
    "df_merged_dataset['income'].describe()"
   ]
  },
  {
   "cell_type": "code",
   "execution_count": 126,
   "id": "a2890ee2-b366-45da-a20e-78285f8bf880",
   "metadata": {},
   "outputs": [
    {
     "data": {
      "text/plain": [
       "income\n",
       "25903      20\n",
       "25911      28\n",
       "25937      39\n",
       "25941      31\n",
       "25955     392\n",
       "         ... \n",
       "584097    826\n",
       "590790     54\n",
       "591089    176\n",
       "592409    318\n",
       "593901    640\n",
       "Name: count, Length: 108012, dtype: int64"
      ]
     },
     "execution_count": 126,
     "metadata": {},
     "output_type": "execute_result"
    }
   ],
   "source": [
    "df_merged_dataset['income'].value_counts(dropna = False).sort_index()"
   ]
  },
  {
   "cell_type": "code",
   "execution_count": 127,
   "id": "f796b9b6-8820-42cb-8f73-3e1b07a3cabf",
   "metadata": {},
   "outputs": [],
   "source": [
    "#Allocate income\n",
    "result_5 = []\n",
    "for value in df_merged_dataset['income']:\n",
    "  if value <= 67000:\n",
    "    result_5.append('Low Income')\n",
    "  elif value <= 125000:\n",
    "    result_5.append('Middle Income')\n",
    "  else:\n",
    "    result_5.append('High Income')"
   ]
  },
  {
   "cell_type": "code",
   "execution_count": 128,
   "id": "7fc6f655-36f1-4794-bb5c-23a3b75f961b",
   "metadata": {},
   "outputs": [],
   "source": [
    "#Assign result to a new column\n",
    "df_merged_dataset['income_profile'] = result_5"
   ]
  },
  {
   "cell_type": "code",
   "execution_count": 129,
   "id": "4a146c11-ba05-43f2-8d3f-5004a2192493",
   "metadata": {},
   "outputs": [
    {
     "data": {
      "text/plain": [
       "(32403719, 39)"
      ]
     },
     "execution_count": 129,
     "metadata": {},
     "output_type": "execute_result"
    }
   ],
   "source": [
    "#View dimensions\n",
    "df_merged_dataset.shape"
   ]
  },
  {
   "cell_type": "code",
   "execution_count": 130,
   "id": "2b10ef3b-2b82-4c1c-a075-25a46464c55a",
   "metadata": {},
   "outputs": [
    {
     "data": {
      "text/html": [
       "<div>\n",
       "<style scoped>\n",
       "    .dataframe tbody tr th:only-of-type {\n",
       "        vertical-align: middle;\n",
       "    }\n",
       "\n",
       "    .dataframe tbody tr th {\n",
       "        vertical-align: top;\n",
       "    }\n",
       "\n",
       "    .dataframe thead th {\n",
       "        text-align: right;\n",
       "    }\n",
       "</style>\n",
       "<table border=\"1\" class=\"dataframe\">\n",
       "  <thead>\n",
       "    <tr style=\"text-align: right;\">\n",
       "      <th></th>\n",
       "      <th>income_profile</th>\n",
       "      <th>count</th>\n",
       "    </tr>\n",
       "  </thead>\n",
       "  <tbody>\n",
       "    <tr>\n",
       "      <th>0</th>\n",
       "      <td>Middle Income</td>\n",
       "      <td>15672551</td>\n",
       "    </tr>\n",
       "    <tr>\n",
       "      <th>1</th>\n",
       "      <td>High Income</td>\n",
       "      <td>8630641</td>\n",
       "    </tr>\n",
       "    <tr>\n",
       "      <th>2</th>\n",
       "      <td>Low Income</td>\n",
       "      <td>8100527</td>\n",
       "    </tr>\n",
       "    <tr>\n",
       "      <th>3</th>\n",
       "      <td>Total</td>\n",
       "      <td>32403719</td>\n",
       "    </tr>\n",
       "  </tbody>\n",
       "</table>\n",
       "</div>"
      ],
      "text/plain": [
       "  income_profile     count\n",
       "0  Middle Income  15672551\n",
       "1    High Income   8630641\n",
       "2     Low Income   8100527\n",
       "3          Total  32403719"
      ]
     },
     "execution_count": 130,
     "metadata": {},
     "output_type": "execute_result"
    }
   ],
   "source": [
    "# Group by label and count occurrences\n",
    "count = df_merged_dataset['income_profile'].value_counts(dropna=False).reset_index()\n",
    "count.columns = ['income_profile', 'count']\n",
    "\n",
    "# Add a row for the total sum of unique users\n",
    "total_row = pd.DataFrame({'income_profile': ['Total'], 'count': [count['count'].sum()]})\n",
    "count = pd.concat([count, total_row], ignore_index=True)\n",
    "\n",
    "# Display the table\n",
    "count"
   ]
  },
  {
   "cell_type": "markdown",
   "id": "39a06ae5-bfaa-480a-8a89-f768e0f907f9",
   "metadata": {},
   "source": [
    "# >>> Export / Import"
   ]
  },
  {
   "cell_type": "code",
   "execution_count": 132,
   "id": "0559dbc0-34ee-403d-86aa-1f79f74de382",
   "metadata": {},
   "outputs": [],
   "source": [
    "#Export merged dataset\n",
    "df_merged_dataset.to_pickle(os.path.join(path, '02 - Data', 'Prepared Data', 'final_dataset_4.pkl'))"
   ]
  },
  {
   "cell_type": "code",
   "execution_count": 5,
   "id": "31cb9dbb-9022-48b7-a604-b8ef5601dab3",
   "metadata": {},
   "outputs": [],
   "source": [
    "#Import merged dataset\n",
    "df_merged_dataset = pd.read_pickle(os.path.join(path, '02 - Data', 'Prepared Data', 'final_dataset_4.pkl'))"
   ]
  },
  {
   "cell_type": "markdown",
   "id": "20e5175d-ab32-4427-a2d3-1af0872a43d3",
   "metadata": {},
   "source": [
    "## 3.15. Parental Status"
   ]
  },
  {
   "cell_type": "code",
   "execution_count": 150,
   "id": "5bf0c385-b7d9-4851-8745-103e16f8fbee",
   "metadata": {},
   "outputs": [
    {
     "data": {
      "text/plain": [
       "number_of_dependants\n",
       "0    8097297\n",
       "1    8080806\n",
       "2    8090893\n",
       "3    8134723\n",
       "Name: count, dtype: int64"
      ]
     },
     "execution_count": 150,
     "metadata": {},
     "output_type": "execute_result"
    }
   ],
   "source": [
    "df_merged_dataset['number_of_dependants'].value_counts(dropna = False).sort_index()"
   ]
  },
  {
   "cell_type": "code",
   "execution_count": 151,
   "id": "59726c4e-4583-454d-baba-d0b48c90e204",
   "metadata": {},
   "outputs": [],
   "source": [
    "#Allocate dependents\n",
    "result_6 = []\n",
    "for value in df_merged_dataset['number_of_dependants']:\n",
    "  if value == 0:\n",
    "    result_6.append('non-parent')\n",
    "  elif value > 0:\n",
    "    result_6.append('parent')\n",
    "  else:\n",
    "    result_6.append('unallocated') #Check"
   ]
  },
  {
   "cell_type": "code",
   "execution_count": 152,
   "id": "7914ad1b-621d-4dea-b375-9a4d8149501c",
   "metadata": {},
   "outputs": [],
   "source": [
    "#Assign result to a new column\n",
    "df_merged_dataset['parental_status'] = result_6"
   ]
  },
  {
   "cell_type": "code",
   "execution_count": 153,
   "id": "189fb6fd-cd55-47c4-91b7-8f222746668e",
   "metadata": {},
   "outputs": [
    {
     "data": {
      "text/plain": [
       "(32403719, 40)"
      ]
     },
     "execution_count": 153,
     "metadata": {},
     "output_type": "execute_result"
    }
   ],
   "source": [
    "#View dimensions\n",
    "df_merged_dataset.shape"
   ]
  },
  {
   "cell_type": "code",
   "execution_count": 154,
   "id": "9a66aecb-6504-40b7-8129-0024cf5668e0",
   "metadata": {},
   "outputs": [
    {
     "data": {
      "text/html": [
       "<div>\n",
       "<style scoped>\n",
       "    .dataframe tbody tr th:only-of-type {\n",
       "        vertical-align: middle;\n",
       "    }\n",
       "\n",
       "    .dataframe tbody tr th {\n",
       "        vertical-align: top;\n",
       "    }\n",
       "\n",
       "    .dataframe thead th {\n",
       "        text-align: right;\n",
       "    }\n",
       "</style>\n",
       "<table border=\"1\" class=\"dataframe\">\n",
       "  <thead>\n",
       "    <tr style=\"text-align: right;\">\n",
       "      <th></th>\n",
       "      <th>parental_status</th>\n",
       "      <th>count</th>\n",
       "    </tr>\n",
       "  </thead>\n",
       "  <tbody>\n",
       "    <tr>\n",
       "      <th>0</th>\n",
       "      <td>parent</td>\n",
       "      <td>24306422</td>\n",
       "    </tr>\n",
       "    <tr>\n",
       "      <th>1</th>\n",
       "      <td>non-parent</td>\n",
       "      <td>8097297</td>\n",
       "    </tr>\n",
       "    <tr>\n",
       "      <th>2</th>\n",
       "      <td>Total</td>\n",
       "      <td>32403719</td>\n",
       "    </tr>\n",
       "  </tbody>\n",
       "</table>\n",
       "</div>"
      ],
      "text/plain": [
       "  parental_status     count\n",
       "0          parent  24306422\n",
       "1      non-parent   8097297\n",
       "2           Total  32403719"
      ]
     },
     "execution_count": 154,
     "metadata": {},
     "output_type": "execute_result"
    }
   ],
   "source": [
    "# Group by label and count occurrences\n",
    "count = df_merged_dataset['parental_status'].value_counts(dropna=False).reset_index()\n",
    "count.columns = ['parental_status', 'count']\n",
    "\n",
    "# Add a row for the total sum of unique users\n",
    "total_row = pd.DataFrame({'parental_status': ['Total'], 'count': [count['count'].sum()]})\n",
    "count = pd.concat([count, total_row], ignore_index=True)\n",
    "\n",
    "# Display the table\n",
    "count"
   ]
  },
  {
   "cell_type": "markdown",
   "id": "d617526d-87e8-4e03-97de-6b402218271d",
   "metadata": {},
   "source": [
    "## 3.16. Family Status"
   ]
  },
  {
   "cell_type": "code",
   "execution_count": 156,
   "id": "35f5c581-fb61-482e-89b7-aa20a1ab9205",
   "metadata": {},
   "outputs": [
    {
     "data": {
      "text/html": [
       "<div>\n",
       "<style scoped>\n",
       "    .dataframe tbody tr th:only-of-type {\n",
       "        vertical-align: middle;\n",
       "    }\n",
       "\n",
       "    .dataframe tbody tr th {\n",
       "        vertical-align: top;\n",
       "    }\n",
       "\n",
       "    .dataframe thead th {\n",
       "        text-align: right;\n",
       "    }\n",
       "</style>\n",
       "<table border=\"1\" class=\"dataframe\">\n",
       "  <thead>\n",
       "    <tr style=\"text-align: right;\">\n",
       "      <th></th>\n",
       "      <th>marital_status</th>\n",
       "      <th>count</th>\n",
       "    </tr>\n",
       "  </thead>\n",
       "  <tbody>\n",
       "    <tr>\n",
       "      <th>0</th>\n",
       "      <td>married</td>\n",
       "      <td>22755877</td>\n",
       "    </tr>\n",
       "    <tr>\n",
       "      <th>1</th>\n",
       "      <td>single</td>\n",
       "      <td>5325597</td>\n",
       "    </tr>\n",
       "    <tr>\n",
       "      <th>2</th>\n",
       "      <td>divorced/widowed</td>\n",
       "      <td>2771700</td>\n",
       "    </tr>\n",
       "    <tr>\n",
       "      <th>3</th>\n",
       "      <td>living with parents and siblings</td>\n",
       "      <td>1550545</td>\n",
       "    </tr>\n",
       "    <tr>\n",
       "      <th>4</th>\n",
       "      <td>Total</td>\n",
       "      <td>32403719</td>\n",
       "    </tr>\n",
       "  </tbody>\n",
       "</table>\n",
       "</div>"
      ],
      "text/plain": [
       "                     marital_status     count\n",
       "0                           married  22755877\n",
       "1                            single   5325597\n",
       "2                  divorced/widowed   2771700\n",
       "3  living with parents and siblings   1550545\n",
       "4                             Total  32403719"
      ]
     },
     "execution_count": 156,
     "metadata": {},
     "output_type": "execute_result"
    }
   ],
   "source": [
    "count = df_merged_dataset['marital_status'].value_counts(dropna=False).reset_index()\n",
    "count.columns = ['marital_status', 'count']\n",
    "\n",
    "# Add a row for the total sum of unique users\n",
    "total_row = pd.DataFrame({'marital_status': ['Total'], 'count': [count['count'].sum()]})\n",
    "count = pd.concat([count, total_row], ignore_index=True)\n",
    "\n",
    "# Display the table\n",
    "count"
   ]
  },
  {
   "cell_type": "code",
   "execution_count": 157,
   "id": "05059873-ef30-445c-bad7-df7eb42bfbd4",
   "metadata": {},
   "outputs": [
    {
     "data": {
      "text/html": [
       "<div>\n",
       "<style scoped>\n",
       "    .dataframe tbody tr th:only-of-type {\n",
       "        vertical-align: middle;\n",
       "    }\n",
       "\n",
       "    .dataframe tbody tr th {\n",
       "        vertical-align: top;\n",
       "    }\n",
       "\n",
       "    .dataframe thead th {\n",
       "        text-align: right;\n",
       "    }\n",
       "</style>\n",
       "<table border=\"1\" class=\"dataframe\">\n",
       "  <thead>\n",
       "    <tr style=\"text-align: right;\">\n",
       "      <th>parental_status</th>\n",
       "      <th>non-parent</th>\n",
       "      <th>parent</th>\n",
       "    </tr>\n",
       "    <tr>\n",
       "      <th>marital_status</th>\n",
       "      <th></th>\n",
       "      <th></th>\n",
       "    </tr>\n",
       "  </thead>\n",
       "  <tbody>\n",
       "    <tr>\n",
       "      <th>divorced/widowed</th>\n",
       "      <td>2771700</td>\n",
       "      <td>0</td>\n",
       "    </tr>\n",
       "    <tr>\n",
       "      <th>living with parents and siblings</th>\n",
       "      <td>0</td>\n",
       "      <td>1550545</td>\n",
       "    </tr>\n",
       "    <tr>\n",
       "      <th>married</th>\n",
       "      <td>0</td>\n",
       "      <td>22755877</td>\n",
       "    </tr>\n",
       "    <tr>\n",
       "      <th>single</th>\n",
       "      <td>5325597</td>\n",
       "      <td>0</td>\n",
       "    </tr>\n",
       "  </tbody>\n",
       "</table>\n",
       "</div>"
      ],
      "text/plain": [
       "parental_status                   non-parent    parent\n",
       "marital_status                                        \n",
       "divorced/widowed                     2771700         0\n",
       "living with parents and siblings           0   1550545\n",
       "married                                    0  22755877\n",
       "single                               5325597         0"
      ]
     },
     "execution_count": 157,
     "metadata": {},
     "output_type": "execute_result"
    }
   ],
   "source": [
    "#Cross variables\n",
    "marital_vs_parental_status = pd.crosstab(df_merged_dataset['marital_status'], df_merged_dataset['parental_status'], dropna = False)\n",
    "marital_vs_parental_status"
   ]
  },
  {
   "cell_type": "markdown",
   "id": "f0989677-a082-4cbe-93e8-f7e46ba040d3",
   "metadata": {},
   "source": [
    "##### Allocate lables as follows:\n",
    "- None of the divorced/widowed and single users have children and can be classified as single adults.\n",
    "- All users that live with their parents or siblings are also parents and can be classified as young parents.\n",
    "- All married users are parents and can be classified as families."
   ]
  },
  {
   "cell_type": "code",
   "execution_count": 159,
   "id": "c8d8f1fa-9fce-4ff1-aa9c-cf7f5c323f04",
   "metadata": {},
   "outputs": [],
   "source": [
    "#Allocate family status\n",
    "result_7 = []\n",
    "for value in df_merged_dataset['marital_status']:\n",
    "  if value == 'divorced/widowed':\n",
    "    result_7.append('Single Adult')\n",
    "  elif value == 'living with parents and siblings':\n",
    "    result_7.append('Young Parent')\n",
    "  elif value == 'married':\n",
    "    result_7.append('Family')\n",
    "  elif value == 'single':\n",
    "    result_7.append('Single Adult')\n",
    "  else:\n",
    "    result_7.append('unallocated')"
   ]
  },
  {
   "cell_type": "code",
   "execution_count": 160,
   "id": "fd579876-5c30-4639-9edc-b850e78b0cbd",
   "metadata": {},
   "outputs": [],
   "source": [
    "#Assign result to a new column\n",
    "df_merged_dataset['family_status'] = result_7"
   ]
  },
  {
   "cell_type": "code",
   "execution_count": 161,
   "id": "60ccb272-adcd-407e-8f88-3933e9b2a522",
   "metadata": {},
   "outputs": [
    {
     "data": {
      "text/plain": [
       "(32403719, 41)"
      ]
     },
     "execution_count": 161,
     "metadata": {},
     "output_type": "execute_result"
    }
   ],
   "source": [
    "#View dimensions\n",
    "df_merged_dataset.shape"
   ]
  },
  {
   "cell_type": "code",
   "execution_count": 162,
   "id": "13b167b6-4291-4fcc-8ea4-a18a91c26c26",
   "metadata": {},
   "outputs": [
    {
     "data": {
      "text/html": [
       "<div>\n",
       "<style scoped>\n",
       "    .dataframe tbody tr th:only-of-type {\n",
       "        vertical-align: middle;\n",
       "    }\n",
       "\n",
       "    .dataframe tbody tr th {\n",
       "        vertical-align: top;\n",
       "    }\n",
       "\n",
       "    .dataframe thead th {\n",
       "        text-align: right;\n",
       "    }\n",
       "</style>\n",
       "<table border=\"1\" class=\"dataframe\">\n",
       "  <thead>\n",
       "    <tr style=\"text-align: right;\">\n",
       "      <th></th>\n",
       "      <th>family_status</th>\n",
       "      <th>count</th>\n",
       "    </tr>\n",
       "  </thead>\n",
       "  <tbody>\n",
       "    <tr>\n",
       "      <th>0</th>\n",
       "      <td>Family</td>\n",
       "      <td>22755877</td>\n",
       "    </tr>\n",
       "    <tr>\n",
       "      <th>1</th>\n",
       "      <td>Single Adult</td>\n",
       "      <td>8097297</td>\n",
       "    </tr>\n",
       "    <tr>\n",
       "      <th>2</th>\n",
       "      <td>Young Parent</td>\n",
       "      <td>1550545</td>\n",
       "    </tr>\n",
       "    <tr>\n",
       "      <th>3</th>\n",
       "      <td>Total</td>\n",
       "      <td>32403719</td>\n",
       "    </tr>\n",
       "  </tbody>\n",
       "</table>\n",
       "</div>"
      ],
      "text/plain": [
       "  family_status     count\n",
       "0        Family  22755877\n",
       "1  Single Adult   8097297\n",
       "2  Young Parent   1550545\n",
       "3         Total  32403719"
      ]
     },
     "execution_count": 162,
     "metadata": {},
     "output_type": "execute_result"
    }
   ],
   "source": [
    "# Group by label and count occurrences\n",
    "count = df_merged_dataset['family_status'].value_counts(dropna=False).reset_index()\n",
    "count.columns = ['family_status', 'count']\n",
    "\n",
    "# Add a row for the total sum of unique users\n",
    "total_row = pd.DataFrame({'family_status': ['Total'], 'count': [count['count'].sum()]})\n",
    "count = pd.concat([count, total_row], ignore_index=True)\n",
    "\n",
    "# Display the table\n",
    "count"
   ]
  },
  {
   "cell_type": "markdown",
   "id": "e1e550f4-14d3-4bdf-a482-6c9dc56b8278",
   "metadata": {},
   "source": [
    "## 3.17. Product Category"
   ]
  },
  {
   "cell_type": "code",
   "execution_count": 164,
   "id": "8229bdc5-d1bd-4d76-af5c-d76c0c894be0",
   "metadata": {},
   "outputs": [
    {
     "data": {
      "text/plain": [
       "department_id  department     \n",
       "4              produce            9479291\n",
       "16             dairy eggs         5398185\n",
       "19             snacks             2887550\n",
       "7              beverages          2688115\n",
       "1              frozen             2234743\n",
       "13             pantry             1875369\n",
       "3              bakery             1172428\n",
       "15             canned goods       1068058\n",
       "20             deli               1051249\n",
       "9              dry goods pasta     866627\n",
       "17             household           738666\n",
       "12             meat seafood        708927\n",
       "14             breakfast           703033\n",
       "11             personal care       447010\n",
       "18             babies              423794\n",
       "6              international       269253\n",
       "5              alcohol             153696\n",
       "8              pets                 97716\n",
       "21             missing              69145\n",
       "2              other                36291\n",
       "10             bulk                 34573\n",
       "Name: count, dtype: int64"
      ]
     },
     "execution_count": 164,
     "metadata": {},
     "output_type": "execute_result"
    }
   ],
   "source": [
    "#View distribution of values in 'department_id' column\n",
    "df_merged_dataset[['department_id','department']].value_counts(dropna = False)"
   ]
  },
  {
   "cell_type": "markdown",
   "id": "4882da8a-280b-4c71-9c86-df271cf73eed",
   "metadata": {},
   "source": [
    "##### Categories can be allocated as follows:\n",
    "- beverages as beverages [7]\n",
    "- alcoholic as alcoholic beverages [5]\n",
    "- dairy eggs, deli, meat seafood, produce & bakery as perishables [16,20,12,4,3]\n",
    "- frozen, bulk, canned goods, dry goods pasta, pantry, snacks & breakfast as non-perishables [1,10,15,9,13,19,14]\n",
    "- household as household [17]\n",
    "- personal care as personal care [11]\n",
    "- pets as pets [8]\n",
    "- babies as babies [18]\n",
    "- international, missing & other as miscellaneous [6,21,2]"
   ]
  },
  {
   "cell_type": "code",
   "execution_count": 166,
   "id": "b4092c58-6e1a-4c90-aa6e-3f143426a14b",
   "metadata": {},
   "outputs": [],
   "source": [
    "#Allocate departments\n",
    "result_8 = []\n",
    "for value in df_merged_dataset['department_id']:\n",
    "  if value in [7]:\n",
    "    result_8.append('beverages')\n",
    "  elif value in [5]:\n",
    "    result_8.append('alcoholic beverages')\n",
    "  elif value in [16,20,12,4,3]:\n",
    "    result_8.append('perishables')\n",
    "  elif value in [1,10,15,9,13,19,14]:\n",
    "    result_8.append('non-perishables')\n",
    "  elif value in [17]:\n",
    "    result_8.append('household')\n",
    "  elif value in [11]:\n",
    "    result_8.append('personal care')\n",
    "  elif value in [8]:\n",
    "    result_8.append('pets')\n",
    "  elif value in [18]:\n",
    "    result_8.append('babies')\n",
    "  elif value in [6,21,2]:\n",
    "    result_8.append('miscellaneous')\n",
    "  else:\n",
    "    result_8.append('unallocated') #Check"
   ]
  },
  {
   "cell_type": "code",
   "execution_count": 167,
   "id": "6f6b47d0-0c6a-441e-ba86-262b6be1ee40",
   "metadata": {},
   "outputs": [],
   "source": [
    "#Assign result to a new column\n",
    "df_merged_dataset['product_category'] = result_8"
   ]
  },
  {
   "cell_type": "code",
   "execution_count": 168,
   "id": "02fb7246-5491-4071-a4cb-3ad202a9f193",
   "metadata": {},
   "outputs": [
    {
     "data": {
      "text/plain": [
       "(32403719, 42)"
      ]
     },
     "execution_count": 168,
     "metadata": {},
     "output_type": "execute_result"
    }
   ],
   "source": [
    "#View dimensions\n",
    "df_merged_dataset.shape"
   ]
  },
  {
   "cell_type": "code",
   "execution_count": 169,
   "id": "6752481a-0349-4c4d-9a56-d70c57b3473f",
   "metadata": {},
   "outputs": [
    {
     "data": {
      "text/html": [
       "<div>\n",
       "<style scoped>\n",
       "    .dataframe tbody tr th:only-of-type {\n",
       "        vertical-align: middle;\n",
       "    }\n",
       "\n",
       "    .dataframe tbody tr th {\n",
       "        vertical-align: top;\n",
       "    }\n",
       "\n",
       "    .dataframe thead th {\n",
       "        text-align: right;\n",
       "    }\n",
       "</style>\n",
       "<table border=\"1\" class=\"dataframe\">\n",
       "  <thead>\n",
       "    <tr style=\"text-align: right;\">\n",
       "      <th></th>\n",
       "      <th>product_category</th>\n",
       "      <th>count</th>\n",
       "    </tr>\n",
       "  </thead>\n",
       "  <tbody>\n",
       "    <tr>\n",
       "      <th>0</th>\n",
       "      <td>perishables</td>\n",
       "      <td>17810080</td>\n",
       "    </tr>\n",
       "    <tr>\n",
       "      <th>1</th>\n",
       "      <td>non-perishables</td>\n",
       "      <td>9669953</td>\n",
       "    </tr>\n",
       "    <tr>\n",
       "      <th>2</th>\n",
       "      <td>beverages</td>\n",
       "      <td>2688115</td>\n",
       "    </tr>\n",
       "    <tr>\n",
       "      <th>3</th>\n",
       "      <td>household</td>\n",
       "      <td>738666</td>\n",
       "    </tr>\n",
       "    <tr>\n",
       "      <th>4</th>\n",
       "      <td>personal care</td>\n",
       "      <td>447010</td>\n",
       "    </tr>\n",
       "    <tr>\n",
       "      <th>5</th>\n",
       "      <td>babies</td>\n",
       "      <td>423794</td>\n",
       "    </tr>\n",
       "    <tr>\n",
       "      <th>6</th>\n",
       "      <td>miscellaneous</td>\n",
       "      <td>374689</td>\n",
       "    </tr>\n",
       "    <tr>\n",
       "      <th>7</th>\n",
       "      <td>alcoholic beverages</td>\n",
       "      <td>153696</td>\n",
       "    </tr>\n",
       "    <tr>\n",
       "      <th>8</th>\n",
       "      <td>pets</td>\n",
       "      <td>97716</td>\n",
       "    </tr>\n",
       "    <tr>\n",
       "      <th>9</th>\n",
       "      <td>Total</td>\n",
       "      <td>32403719</td>\n",
       "    </tr>\n",
       "  </tbody>\n",
       "</table>\n",
       "</div>"
      ],
      "text/plain": [
       "      product_category     count\n",
       "0          perishables  17810080\n",
       "1      non-perishables   9669953\n",
       "2            beverages   2688115\n",
       "3            household    738666\n",
       "4        personal care    447010\n",
       "5               babies    423794\n",
       "6        miscellaneous    374689\n",
       "7  alcoholic beverages    153696\n",
       "8                 pets     97716\n",
       "9                Total  32403719"
      ]
     },
     "execution_count": 169,
     "metadata": {},
     "output_type": "execute_result"
    }
   ],
   "source": [
    "# Group by label and count occurrences\n",
    "count = df_merged_dataset['product_category'].value_counts(dropna=False).reset_index()\n",
    "count.columns = ['product_category', 'count']\n",
    "\n",
    "# Add a row for the total sum of unique users\n",
    "total_row = pd.DataFrame({'product_category': ['Total'], 'count': [count['count'].sum()]})\n",
    "count = pd.concat([count, total_row], ignore_index=True)\n",
    "\n",
    "# Display the table\n",
    "count"
   ]
  },
  {
   "cell_type": "markdown",
   "id": "5d1803f1-9e2a-4f37-b868-075fd1bef863",
   "metadata": {},
   "source": [
    "# 4. Exports"
   ]
  },
  {
   "cell_type": "code",
   "execution_count": 171,
   "id": "96d10f9c-2327-458c-85e4-eed59b2e65b2",
   "metadata": {},
   "outputs": [
    {
     "data": {
      "text/plain": [
       "(32403719, 42)"
      ]
     },
     "execution_count": 171,
     "metadata": {},
     "output_type": "execute_result"
    }
   ],
   "source": [
    "#Confirm dimensions\n",
    "df_merged_dataset.shape"
   ]
  },
  {
   "cell_type": "code",
   "execution_count": null,
   "id": "26a676ff-4f16-4bdc-b197-3b12065eb758",
   "metadata": {},
   "outputs": [],
   "source": [
    "#Export merged dataset\n",
    "df_merged_dataset.to_pickle(os.path.join(path, '02 - Data', 'Prepared Data', 'final_dataset_5.pkl'))"
   ]
  },
  {
   "cell_type": "code",
   "execution_count": null,
   "id": "915da74b-6ac2-4e78-a2fc-e7026a8cf50f",
   "metadata": {},
   "outputs": [],
   "source": []
  }
 ],
 "metadata": {
  "kernelspec": {
   "display_name": "Python [conda env:base] *",
   "language": "python",
   "name": "conda-base-py"
  },
  "language_info": {
   "codemirror_mode": {
    "name": "ipython",
    "version": 3
   },
   "file_extension": ".py",
   "mimetype": "text/x-python",
   "name": "python",
   "nbconvert_exporter": "python",
   "pygments_lexer": "ipython3",
   "version": "3.12.2"
  }
 },
 "nbformat": 4,
 "nbformat_minor": 5
}
